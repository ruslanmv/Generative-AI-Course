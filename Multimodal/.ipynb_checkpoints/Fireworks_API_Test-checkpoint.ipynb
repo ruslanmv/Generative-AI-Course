{
 "cells": [
  {
   "cell_type": "code",
   "execution_count": 8,
   "id": "4649db8e",
   "metadata": {},
   "outputs": [
    {
     "name": "stdout",
     "output_type": "stream",
     "text": [
      "In the image, a cute, sad-looking meerkat, also known as a suricata suricatta, is captured in a close-up shot. The baby meerkat's face is delicately framed by its small, expressive eyes and large ears. It stands alone in the foreground, with a sense of sadness etched in its features. The background appears to be a blurred, distorted wall, suggesting that the image may be an illustration or digital manipulation.\n"
     ]
    }
   ],
   "source": [
    "import fireworks.client\n",
    "import base64\n",
    "\n",
    "# Helper function to encode the image\n",
    "def encode_image(image_path):\n",
    "    with open(image_path, \"rb\") as image_file:\n",
    "        return base64.b64encode(image_file.read()).decode('utf-8')\n",
    "\n",
    "# The path to your image\n",
    "image_path = \"meerkat1.jpg\"\n",
    "\n",
    "#The base64 string of the image_base64 = encode_image(image_path)\n",
    "\n",
    "fireworks.client.api_key = \"Fireworks_API_KEY\"\n",
    "\n",
    "response = fireworks.client.ChatCompletion.create(\n",
    "  model = \"accounts/fireworks/models/firellava-13b\",\n",
    "  messages = [{\n",
    "    \"role\": \"user\",\n",
    "    \"content\": [{\n",
    "      \"type\": \"text\",\n",
    "      \"text\": \"Can you describe this image?\",\n",
    "    }, {\n",
    "      \"type\": \"image_url\",\n",
    "      \"image_url\": {\n",
    "        \"url\": f\"data:image/jpeg;base64,{encode_image(image_path)}\"\n",
    "      },\n",
    "    }, ],\n",
    "  }],\n",
    ")\n",
    "print(response.choices[0].message.content)"
   ]
  }
 ],
 "metadata": {
  "kernelspec": {
   "display_name": "Python 3 (ipykernel)",
   "language": "python",
   "name": "python3"
  },
  "language_info": {
   "codemirror_mode": {
    "name": "ipython",
    "version": 3
   },
   "file_extension": ".py",
   "mimetype": "text/x-python",
   "name": "python",
   "nbconvert_exporter": "python",
   "pygments_lexer": "ipython3",
   "version": "3.11.5"
  }
 },
 "nbformat": 4,
 "nbformat_minor": 5
}
