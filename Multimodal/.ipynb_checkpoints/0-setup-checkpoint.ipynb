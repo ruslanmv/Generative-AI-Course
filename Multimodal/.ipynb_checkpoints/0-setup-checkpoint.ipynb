{
 "cells": [
  {
   "cell_type": "markdown",
   "metadata": {},
   "source": [
    "## Building MultiModal Search with Vector Databases "
   ]
  },
  {
   "cell_type": "markdown",
   "metadata": {},
   "source": [
    "### Weaviate Setup\n",
    "\n",
    "run the docker image with:\n",
    "\n",
    "```\n",
    "docker compose\n",
    "```"
   ]
  },
  {
   "cell_type": "markdown",
   "metadata": {},
   "source": [
    "### Dependencies\n",
    "\n",
    "    1. The Weaviate Python Client"
   ]
  },
  {
   "cell_type": "code",
   "execution_count": null,
   "metadata": {},
   "outputs": [],
   "source": [
    "! pip install --pre -I \"weaviate-client==4.4.1\""
   ]
  },
  {
   "attachments": {},
   "cell_type": "markdown",
   "metadata": {},
   "source": [
    "### Connect to Weaviate"
   ]
  },
  {
   "cell_type": "code",
   "execution_count": 3,
   "metadata": {},
   "outputs": [
    {
     "data": {
      "text/plain": [
       "True"
      ]
     },
     "execution_count": 3,
     "metadata": {},
     "output_type": "execute_result"
    }
   ],
   "source": [
    "import weaviate, os\n",
    "\n",
    "client = weaviate.connect_to_local()\n",
    "\n",
    "client.is_ready()"
   ]
  },
  {
   "cell_type": "code",
   "execution_count": 5,
   "metadata": {},
   "outputs": [
    {
     "data": {
      "text/plain": [
       "{'hostname': 'http://[::]:8080',\n",
       " 'modules': {'multi2vec-bind': {'model': 'ImageBindModel', 'version': 1}},\n",
       " 'version': '1.23.7'}"
      ]
     },
     "execution_count": 5,
     "metadata": {},
     "output_type": "execute_result"
    }
   ],
   "source": [
    "client.get_meta()"
   ]
  },
  {
   "cell_type": "markdown",
   "metadata": {},
   "source": [
    "### Create the `Animals` Collection"
   ]
  },
  {
   "cell_type": "code",
   "execution_count": 11,
   "metadata": {},
   "outputs": [
    {
     "data": {
      "text/plain": [
       "<weaviate.collections.collection.Collection at 0x11ba480d0>"
      ]
     },
     "execution_count": 11,
     "metadata": {},
     "output_type": "execute_result"
    }
   ],
   "source": [
    "import weaviate.classes.config as wc\n",
    "\n",
    "if(client.collections.exists(\"Animals\")):\n",
    "    client.collections.delete(\"Animals\")\n",
    "\n",
    "client.collections.create(\n",
    "    name=\"Animals\",\n",
    "    vectorizer_config=wc.Configure.Vectorizer.multi2vec_bind(\n",
    "        audio_fields=[\"audio\"],\n",
    "        image_fields=[\"image\"],\n",
    "        video_fields=[\"video\"],\n",
    "    )\n",
    ")"
   ]
  },
  {
   "cell_type": "code",
   "execution_count": 8,
   "metadata": {},
   "outputs": [],
   "source": [
    "import base64\n",
    "\n",
    "# Helper function to convert a file to base64 representation\n",
    "def toBase64(path):\n",
    "    with open(path, 'rb') as file:\n",
    "        return base64.b64encode(file.read()).decode('utf-8')\n"
   ]
  },
  {
   "cell_type": "markdown",
   "metadata": {},
   "source": [
    "### Insert Images into Weaviate\n",
    "\n",
    "> if you get timeout errors, reduce the value from '5' in\n",
    "> `if (len(items) == 5):`"
   ]
  },
  {
   "cell_type": "code",
   "execution_count": 12,
   "metadata": {
    "scrolled": true
   },
   "outputs": [
    {
     "name": "stdout",
     "output_type": "stream",
     "text": [
      "Adding dog3.jpg\n",
      "Adding dog2.jpg\n",
      "Adding dog1.jpg\n",
      "Adding cat1.jpg\n",
      "Adding cat2.jpg\n",
      "Inserting 5 new image objects.\n",
      "Adding cat3.jpg\n",
      "Adding meerkat3.jpg\n",
      "Adding meerkat2.jpg\n",
      "Adding meerkat1.jpg\n",
      "Inserting remaining (4) items.\n"
     ]
    }
   ],
   "source": [
    "animals = client.collections.get(\"Animals\")\n",
    "\n",
    "source = os.listdir(\"./source/image/\")\n",
    "items = list()\n",
    "\n",
    "for name in source:\n",
    "    print(f\"Adding {name}\")\n",
    "    \n",
    "    path = \"./source/image/\" + name\n",
    "    \n",
    "    items.append({\n",
    "        \"name\": name,            # name of the file\n",
    "        \"path\": path,            # path to the file to display result\n",
    "        \"image\": toBase64(path), # this gets vectorized - \"image\" was configured in vectorizer_config as the property holding images\n",
    "        \"mediaType\": \"image\",    # a label telling us how to display the resource \n",
    "    })\n",
    "\n",
    "    # import images in batches of 5\n",
    "    if (len(items) == 5):\n",
    "        print(f\"Inserting 5 new image objects.\")\n",
    "        animals.data.insert_many(items)\n",
    "        items.clear()\n",
    "\n",
    "# Insert any remaining items\n",
    "if (len(items) > 0):\n",
    "    print(f\"Inserting remaining ({len(items)}) items.\")\n",
    "    animals.data.insert_many(items)"
   ]
  },
  {
   "cell_type": "markdown",
   "metadata": {},
   "source": [
    "## Check count\n",
    "> Total count should be 9 (9x image)"
   ]
  },
  {
   "cell_type": "code",
   "execution_count": 2,
   "metadata": {},
   "outputs": [
    {
     "data": {
      "text/plain": [
       "AggregateReturn(properties={}, total_count=9)"
      ]
     },
     "execution_count": 2,
     "metadata": {},
     "output_type": "execute_result"
    }
   ],
   "source": [
    "#Object count\n",
    "animals = client.collections.get(\"Animals\")\n",
    "animals.aggregate.over_all()"
   ]
  },
  {
   "cell_type": "markdown",
   "metadata": {},
   "source": [
    "### Insert Audio Files into Weaviate"
   ]
  },
  {
   "cell_type": "code",
   "execution_count": 14,
   "metadata": {},
   "outputs": [
    {
     "name": "stdout",
     "output_type": "stream",
     "text": [
      "Adding mixkit-little-birds-singing-in-the-trees-17.wav\n",
      "Adding mixkit-jungle-ape-sound-2419.wav\n",
      "Adding mixkit-rooster-crowing-in-the-morning-2462.wav\n",
      "Inserting 3 new audio objects.\n",
      "Adding mixkit-dog-barking-twice-1.wav\n",
      "Adding mixkit-cow-moo-1744.wav\n",
      "Adding mixkit-cartoon-kitty-begging-meow-92.wav\n",
      "Inserting 3 new audio objects.\n"
     ]
    }
   ],
   "source": [
    "animals = client.collections.get(\"Animals\")\n",
    "\n",
    "source = os.listdir(\"./source/audio/\")\n",
    "items = list()\n",
    "\n",
    "for name in source:\n",
    "    print(f\"Adding {name}\")\n",
    "    \n",
    "    path = \"./source/audio/\" + name\n",
    "    items.append({\n",
    "        \"name\": name,\n",
    "        \"path\": path,\n",
    "        \"audio\": toBase64(path),\n",
    "        \"mediaType\": \"audio\"\n",
    "    })\n",
    "\n",
    "    # import images in batches of 3\n",
    "    if(len(items) == 3):\n",
    "        print(f\"Inserting 3 new audio objects.\")\n",
    "        animals.data.insert_many(items)\n",
    "        items.clear()\n",
    "\n",
    "# Insert any remaining items\n",
    "if (len(items) > 0):\n",
    "    print(f\"Inserting remaining ({len(items)}) items.\")\n",
    "    animals.data.insert_many(items)"
   ]
  },
  {
   "cell_type": "markdown",
   "metadata": {},
   "source": [
    "## Check count\n",
    "> Total count should be 15 (9x image + 6x audio)"
   ]
  },
  {
   "cell_type": "code",
   "execution_count": 15,
   "metadata": {},
   "outputs": [
    {
     "data": {
      "text/plain": [
       "AggregateReturn(properties={}, total_count=15)"
      ]
     },
     "execution_count": 15,
     "metadata": {},
     "output_type": "execute_result"
    }
   ],
   "source": [
    "animals.aggregate.over_all()"
   ]
  },
  {
   "cell_type": "markdown",
   "metadata": {},
   "source": [
    "### Insert Video Files into Weaviate"
   ]
  },
  {
   "cell_type": "code",
   "execution_count": 16,
   "metadata": {},
   "outputs": [
    {
     "name": "stdout",
     "output_type": "stream",
     "text": [
      "Adding dog-high-five.mp4\n",
      "Adding dog-with-stick.mp4\n",
      "Adding cat-clean.mp4\n",
      "Adding meerkat-dig.mp4\n",
      "Adding cat-play.mp4\n",
      "Adding meerkat-watch.mp4\n"
     ]
    }
   ],
   "source": [
    "animals = client.collections.get(\"Animals\")\n",
    "\n",
    "source = os.listdir(\"./source/video/\")\n",
    "\n",
    "for name in source:\n",
    "    print(f\"Adding {name}\")\n",
    "    \n",
    "    path = \"./source/video/\" + name\n",
    "    item = {\n",
    "        \"name\": name,\n",
    "        \"path\": path,\n",
    "        \"video\": toBase64(path),\n",
    "        \"mediaType\": \"video\"\n",
    "    }\n",
    "    \n",
    "    # insert videos one by one\n",
    "    animals.data.insert(item)"
   ]
  },
  {
   "cell_type": "markdown",
   "metadata": {},
   "source": [
    "## Check count\n",
    "> Total count should be 21 (9x image + 6x audio + 9x video)"
   ]
  },
  {
   "cell_type": "code",
   "execution_count": 4,
   "metadata": {},
   "outputs": [
    {
     "data": {
      "text/plain": [
       "AggregateReturn(properties={}, total_count=21)"
      ]
     },
     "execution_count": 4,
     "metadata": {},
     "output_type": "execute_result"
    }
   ],
   "source": [
    "animals.aggregate.over_all()"
   ]
  },
  {
   "cell_type": "code",
   "execution_count": 5,
   "metadata": {},
   "outputs": [
    {
     "name": "stdout",
     "output_type": "stream",
     "text": [
      "AggregateGroup(grouped_by=GroupedBy(prop='mediaType', value='image'), properties={}, total_count=9)\n",
      "AggregateGroup(grouped_by=GroupedBy(prop='mediaType', value='audio'), properties={}, total_count=6)\n",
      "AggregateGroup(grouped_by=GroupedBy(prop='mediaType', value='video'), properties={}, total_count=6)\n"
     ]
    }
   ],
   "source": [
    "agg = animals.aggregate.over_all(\n",
    "    group_by=\"mediaType\"\n",
    ")\n",
    "\n",
    "for group in agg.groups:\n",
    "    print(group)\n"
   ]
  },
  {
   "cell_type": "markdown",
   "metadata": {},
   "source": [
    "### Check all the media files added to the Vector Database"
   ]
  },
  {
   "cell_type": "code",
   "execution_count": 8,
   "metadata": {},
   "outputs": [
    {
     "name": "stdout",
     "output_type": "stream",
     "text": [
      "{'mediaType': 'audio', 'name': 'mixkit-dog-barking-twice-1.wav'}\n",
      "{'mediaType': 'audio', 'name': 'mixkit-rooster-crowing-in-the-morning-2462.wav'}\n",
      "{'mediaType': 'video', 'name': 'dog-with-stick.mp4'}\n",
      "{'mediaType': 'audio', 'name': 'mixkit-little-birds-singing-in-the-trees-17.wav'}\n",
      "{'mediaType': 'image', 'name': 'cat1.jpg'}\n",
      "{'mediaType': 'image', 'name': 'dog1.jpg'}\n",
      "{'mediaType': 'image', 'name': 'meerkat3.jpg'}\n",
      "{'mediaType': 'image', 'name': 'cat3.jpg'}\n",
      "{'mediaType': 'audio', 'name': 'mixkit-cow-moo-1744.wav'}\n",
      "{'mediaType': 'image', 'name': 'meerkat2.jpg'}\n",
      "{'mediaType': 'audio', 'name': 'mixkit-cartoon-kitty-begging-meow-92.wav'}\n",
      "{'mediaType': 'video', 'name': 'cat-clean.mp4'}\n",
      "{'mediaType': 'image', 'name': 'dog2.jpg'}\n",
      "{'mediaType': 'image', 'name': 'meerkat1.jpg'}\n",
      "{'mediaType': 'video', 'name': 'meerkat-watch.mp4'}\n",
      "{'mediaType': 'audio', 'name': 'mixkit-jungle-ape-sound-2419.wav'}\n",
      "{'mediaType': 'video', 'name': 'meerkat-dig.mp4'}\n",
      "{'mediaType': 'image', 'name': 'dog3.jpg'}\n",
      "{'mediaType': 'video', 'name': 'cat-play.mp4'}\n",
      "{'mediaType': 'image', 'name': 'cat2.jpg'}\n",
      "{'mediaType': 'video', 'name': 'dog-high-five.mp4'}\n"
     ]
    }
   ],
   "source": [
    "itr = animals.iterator(\n",
    "    return_properties=[\"name\", \"mediaType\"],\n",
    "    # include_vector=True, # in case you want to see the vectors\n",
    ")\n",
    "\n",
    "for item in itr:\n",
    "    print(item.properties)"
   ]
  }
 ],
 "metadata": {
  "kernelspec": {
   "display_name": "Python 3 (ipykernel)",
   "language": "python",
   "name": "python3"
  },
  "language_info": {
   "codemirror_mode": {
    "name": "ipython",
    "version": 3
   },
   "file_extension": ".py",
   "mimetype": "text/x-python",
   "name": "python",
   "nbconvert_exporter": "python",
   "pygments_lexer": "ipython3",
   "version": "3.11.7"
  }
 },
 "nbformat": 4,
 "nbformat_minor": 2
}
