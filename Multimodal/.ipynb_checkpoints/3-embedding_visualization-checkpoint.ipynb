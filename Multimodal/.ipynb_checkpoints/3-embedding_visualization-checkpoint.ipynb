{
 "cells": [
  {
   "cell_type": "code",
   "execution_count": 3,
   "id": "e6f369ce-f8d8-4031-a321-105a8bfa8e70",
   "metadata": {},
   "outputs": [
    {
     "name": "stdout",
     "output_type": "stream",
     "text": [
      "Intel MKL WARNING: Support of Intel(R) Streaming SIMD Extensions 4.2 (Intel(R) SSE4.2) enabled only processors has been deprecated. Intel oneAPI Math Kernel Library 2025.0 will require Intel(R) Advanced Vector Extensions (Intel(R) AVX) instructions.\n",
      "Intel MKL WARNING: Support of Intel(R) Streaming SIMD Extensions 4.2 (Intel(R) SSE4.2) enabled only processors has been deprecated. Intel oneAPI Math Kernel Library 2025.0 will require Intel(R) Advanced Vector Extensions (Intel(R) AVX) instructions.\n"
     ]
    },
    {
     "name": "stderr",
     "output_type": "stream",
     "text": [
      "/Users/zainhasan/opt/anaconda3/envs/deeplearning_course2/lib/python3.11/site-packages/umap/__init__.py:9: ImportWarning: Tensorflow not installed; ParametricUMAP will be unavailable\n",
      "  warn(\n",
      "/Users/zainhasan/opt/anaconda3/envs/deeplearning_course2/lib/python3.11/site-packages/numba/core/decorators.py:161: NumbaDeprecationWarning: The keyword argument 'nopython=False' was supplied. From Numba 0.59.0 the default is True and supplying this argument has no effect.\n",
      "  warnings.warn(msg, NumbaDeprecationWarning)\n"
     ]
    },
    {
     "data": {
      "text/plain": [
       "True"
      ]
     },
     "execution_count": 3,
     "metadata": {},
     "output_type": "execute_result"
    }
   ],
   "source": [
    "import weaviate, os\n",
    "import numpy as np\n",
    "import sklearn.datasets\n",
    "import pandas as pd\n",
    "import umap\n",
    "import umap.plot\n",
    "\n",
    "client = weaviate.connect_to_local()\n",
    "\n",
    "client.is_ready()"
   ]
  },
  {
   "cell_type": "code",
   "execution_count": 4,
   "id": "b669b760-f04b-4767-9488-e494263df903",
   "metadata": {},
   "outputs": [
    {
     "name": "stderr",
     "output_type": "stream",
     "text": [
      "/var/folders/hr/d8tkkpr91y5bvxwrklz514h40000gn/T/ipykernel_97176/2692497961.py:1: ResourceWarning: unclosed <socket.socket fd=77, family=30, type=1, proto=6, laddr=('::1', 57814, 0, 0), raddr=('::1', 8080, 0, 0)>\n",
      "  collection = client.collections.get(\"Animals\")\n"
     ]
    }
   ],
   "source": [
    "collection = client.collections.get(\"Animals\")\n",
    "\n",
    "embs = []\n",
    "labs = []\n",
    "for item in collection.iterator(include_vector=True):\n",
    "    #print(item.properties)\\\n",
    "    labs.append(item.properties['mediaType'])\n",
    "    embs.append(item.vector)"
   ]
  },
  {
   "cell_type": "code",
   "execution_count": 12,
   "id": "f165e45d-5358-4051-9562-0da7b36be8ac",
   "metadata": {},
   "outputs": [],
   "source": [
    "embs2 = [emb['default'] for emb in embs]\n",
    "\n",
    "emb_df = pd.DataFrame(embs2)\n",
    "labels = pd.Series(labs)\n",
    "\n",
    "labels[labels=='image'] = 0\n",
    "labels[labels=='audio'] = 1\n",
    "labels[labels=='video'] = 2"
   ]
  },
  {
   "cell_type": "code",
   "execution_count": 13,
   "id": "72ccb730-5424-4269-a827-51066a05b48e",
   "metadata": {},
   "outputs": [
    {
     "name": "stdout",
     "output_type": "stream",
     "text": [
      "Intel MKL WARNING: Support of Intel(R) Streaming SIMD Extensions 4.2 (Intel(R) SSE4.2) enabled only processors has been deprecated. Intel oneAPI Math Kernel Library 2025.0 will require Intel(R) Advanced Vector Extensions (Intel(R) AVX) instructions.\n"
     ]
    },
    {
     "name": "stderr",
     "output_type": "stream",
     "text": [
      "/Users/zainhasan/opt/anaconda3/envs/deeplearning_course2/lib/python3.11/site-packages/umap/umap_.py:1943: UserWarning: n_jobs value -1 overridden to 1 by setting random_state. Use no seed for parallelism.\n",
      "  warn(f\"n_jobs value {self.n_jobs} overridden to 1 by setting random_state. Use no seed for parallelism.\")\n"
     ]
    },
    {
     "name": "stdout",
     "output_type": "stream",
     "text": [
      "CPU times: user 2.94 s, sys: 339 ms, total: 3.28 s\n",
      "Wall time: 2.69 s\n"
     ]
    }
   ],
   "source": [
    "%%time\n",
    "mapper2 = umap.UMAP(random_state=42).fit(emb_df)"
   ]
  },
  {
   "cell_type": "code",
   "execution_count": 14,
   "id": "6dbd950b-4cb4-4049-be06-7127d28f857c",
   "metadata": {},
   "outputs": [
    {
     "data": {
      "image/png": "[encoded data removed]",
      "text/plain": [
       "<Figure size 800x800 with 1 Axes>"
      ]
     },
     "metadata": {},
     "output_type": "display_data"
    }
   ],
   "source": [
    "umap.plot.points(mapper2, labels=labels, theme='fire');"
   ]
  },
  {
   "cell_type": "markdown",
   "id": "62166638-2db8-4e8d-b3e4-5dd1ada01df4",
   "metadata": {},
   "source": [
    "### Interactive plots"
   ]
  },
  {
   "cell_type": "code",
   "execution_count": 15,
   "id": "897979a1-b0de-45f4-9b37-3c6a69da6870",
   "metadata": {},
   "outputs": [
    {
     "data": {
      "text/html": [
       "    <style>\n",
       "        .bk-notebook-logo {\n",
       "            display: block;\n",
       "            width: 20px;\n",
       "            height: 20px;\n",
       "            background-image: url(data:image/png;base64,iVBORw0KGgoAAAANSUhEUgAAABQAAAAUCAYAAACNiR0NAAAABHNCSVQICAgIfAhkiAAAAAlwSFlzAAALEgAACxIB0t1+/AAAABx0RVh0U29mdHdhcmUAQWRvYmUgRmlyZXdvcmtzIENTNui8sowAAAOkSURBVDiNjZRtaJVlGMd/1/08zzln5zjP1LWcU9N0NkN8m2CYjpgQYQXqSs0I84OLIC0hkEKoPtiH3gmKoiJDU7QpLgoLjLIQCpEsNJ1vqUOdO7ppbuec5+V+rj4ctwzd8IIbbi6u+8f1539dt3A78eXC7QizUF7gyV1fD1Yqg4JWz84yffhm0qkFqBogB9rM8tZdtwVsPUhWhGcFJngGeWrPzHm5oaMmkfEg1usvLFyc8jLRqDOMru7AyC8saQr7GG7f5fvDeH7Ej8CM66nIF+8yngt6HWaKh7k49Soy9nXurCi1o3qUbS3zWfrYeQDTB/Qj6kX6Ybhw4B+bOYoLKCC9H3Nu/leUTZ1JdRWkkn2ldcCamzrcf47KKXdAJllSlxAOkRgyHsGC/zRday5Qld9DyoM4/q/rUoy/CXh3jzOu3bHUVZeU+DEn8FInkPBFlu3+nW3Nw0mk6vCDiWg8CeJaxEwuHS3+z5RgY+YBR6V1Z1nxSOfoaPa4LASWxxdNp+VWTk7+4vzaou8v8PN+xo+KY2xsw6une2frhw05CTYOmQvsEhjhWjn0bmXPjpE1+kplmmkP3suftwTubK9Vq22qKmrBhpY4jvd5afdRA3wGjFAgcnTK2s4hY0/GPNIb0nErGMCRxWOOX64Z8RAC4oCXdklmEvcL8o0BfkNK4lUg9HTl+oPlQxdNo3Mg4Nv175e/1LDGzZen30MEjRUtmXSfiTVu1kK8W4txyV6BMKlbgk3lMwYCiusNy9fVfvvwMxv8Ynl6vxoByANLTWplvuj/nF9m2+PDtt1eiHPBr1oIfhCChQMBw6Aw0UulqTKZdfVvfG7VcfIqLG9bcldL/+pdWTLxLUy8Qq38heUIjh4XlzZxzQm19lLFlr8vdQ97rjZVOLf8nclzckbcD4wxXMidpX30sFd37Fv/GtwwhzhxGVAprjbg0gCAEeIgwCZyTV2Z1REEW8O4py0wsjeloKoMr6iCY6dP92H6Vw/oTyICIthibxjm/DfN9lVz8IqtqKYLUXfoKVMVQVVJOElGjrnnUt9T9wbgp8AyYKaGlqingHZU/uG2NTZSVqwHQTWkx9hxjkpWDaCg6Ckj5qebgBVbT3V3NNXMSiWSDdGV3hrtzla7J+duwPOToIg42ChPQOQjspnSlp1V+Gjdged7+8UN5CRAV7a5EdFNwCjEaBR27b3W890TE7g24NAP/mMDXRWrGoFPQI9ls/MWO2dWFAar/xcOIImbbpA3zgAAAABJRU5ErkJggg==);\n",
       "        }\n",
       "    </style>\n",
       "    <div>\n",
       "        <a href=\"https://bokeh.org\" target=\"_blank\" class=\"bk-notebook-logo\"></a>\n",
       "        <span id=\"e3557ef9-54e7-47f4-86da-314b06c70694\">Loading BokehJS ...</span>\n",
       "    </div>\n"
      ]
     },
     "metadata": {},
     "output_type": "display_data"
    },
    {
     "data": {
      "application/javascript": [
       "(function(root) {\n",
       "  function now() {\n",
       "    return new Date();\n",
       "  }\n",
       "\n",
       "  const force = true;\n",
       "\n",
       "  if (typeof root._bokeh_onload_callbacks === \"undefined\" || force === true) {\n",
       "    root._bokeh_onload_callbacks = [];\n",
       "    root._bokeh_is_loading = undefined;\n",
       "  }\n",
       "\n",
       "const JS_MIME_TYPE = 'application/javascript';\n",
       "  const HTML_MIME_TYPE = 'text/html';\n",
       "  const EXEC_MIME_TYPE = 'application/vnd.bokehjs_exec.v0+json';\n",
       "  const CLASS_NAME = 'output_bokeh rendered_html';\n",
       "\n",
       "  /**\n",
       "   * Render data to the DOM node\n",
       "   */\n",
       "  function render(props, node) {\n",
       "    const script = document.createElement(\"script\");\n",
       "    node.appendChild(script);\n",
       "  }\n",
       "\n",
       "  /**\n",
       "   * Handle when an output is cleared or removed\n",
       "   */\n",
       "  function handleClearOutput(event, handle) {\n",
       "    function drop(id) {\n",
       "      const view = Bokeh.index.get_by_id(id)\n",
       "      if (view != null) {\n",
       "        view.model.document.clear()\n",
       "        Bokeh.index.delete(view)\n",
       "      }\n",
       "    }\n",
       "\n",
       "    const cell = handle.cell;\n",
       "\n",
       "    const id = cell.output_area._bokeh_element_id;\n",
       "    const server_id = cell.output_area._bokeh_server_id;\n",
       "\n",
       "    // Clean up Bokeh references\n",
       "    if (id != null) {\n",
       "      drop(id)\n",
       "    }\n",
       "\n",
       "    if (server_id !== undefined) {\n",
       "      // Clean up Bokeh references\n",
       "      const cmd_clean = \"from bokeh.io.state import curstate; print(curstate().uuid_to_server['\" + server_id + \"'].get_sessions()[0].document.roots[0]._id)\";\n",
       "      cell.notebook.kernel.execute(cmd_clean, {\n",
       "        iopub: {\n",
       "          output: function(msg) {\n",
       "            const id = msg.content.text.trim()\n",
       "            drop(id)\n",
       "          }\n",
       "        }\n",
       "      });\n",
       "      // Destroy server and session\n",
       "      const cmd_destroy = \"import bokeh.io.notebook as ion; ion.destroy_server('\" + server_id + \"')\";\n",
       "      cell.notebook.kernel.execute(cmd_destroy);\n",
       "    }\n",
       "  }\n",
       "\n",
       "  /**\n",
       "   * Handle when a new output is added\n",
       "   */\n",
       "  function handleAddOutput(event, handle) {\n",
       "    const output_area = handle.output_area;\n",
       "    const output = handle.output;\n",
       "\n",
       "    // limit handleAddOutput to display_data with EXEC_MIME_TYPE content only\n",
       "    if ((output.output_type != \"display_data\") || (!Object.prototype.hasOwnProperty.call(output.data, EXEC_MIME_TYPE))) {\n",
       "      return\n",
       "    }\n",
       "\n",
       "    const toinsert = output_area.element.find(\".\" + CLASS_NAME.split(' ')[0]);\n",
       "\n",
       "    if (output.metadata[EXEC_MIME_TYPE][\"id\"] !== undefined) {\n",
       "      toinsert[toinsert.length - 1].firstChild.textContent = output.data[JS_MIME_TYPE];\n",
       "      // store reference to embed id on output_area\n",
       "      output_area._bokeh_element_id = output.metadata[EXEC_MIME_TYPE][\"id\"];\n",
       "    }\n",
       "    if (output.metadata[EXEC_MIME_TYPE][\"server_id\"] !== undefined) {\n",
       "      const bk_div = document.createElement(\"div\");\n",
       "      bk_div.innerHTML = output.data[HTML_MIME_TYPE];\n",
       "      const script_attrs = bk_div.children[0].attributes;\n",
       "      for (let i = 0; i < script_attrs.length; i++) {\n",
       "        toinsert[toinsert.length - 1].firstChild.setAttribute(script_attrs[i].name, script_attrs[i].value);\n",
       "        toinsert[toinsert.length - 1].firstChild.textContent = bk_div.children[0].textContent\n",
       "      }\n",
       "      // store reference to server id on output_area\n",
       "      output_area._bokeh_server_id = output.metadata[EXEC_MIME_TYPE][\"server_id\"];\n",
       "    }\n",
       "  }\n",
       "\n",
       "  function register_renderer(events, OutputArea) {\n",
       "\n",
       "    function append_mime(data, metadata, element) {\n",
       "      // create a DOM node to render to\n",
       "      const toinsert = this.create_output_subarea(\n",
       "        metadata,\n",
       "        CLASS_NAME,\n",
       "        EXEC_MIME_TYPE\n",
       "      );\n",
       "      this.keyboard_manager.register_events(toinsert);\n",
       "      // Render to node\n",
       "      const props = {data: data, metadata: metadata[EXEC_MIME_TYPE]};\n",
       "      render(props, toinsert[toinsert.length - 1]);\n",
       "      element.append(toinsert);\n",
       "      return toinsert\n",
       "    }\n",
       "\n",
       "    /* Handle when an output is cleared or removed */\n",
       "    events.on('clear_output.CodeCell', handleClearOutput);\n",
       "    events.on('delete.Cell', handleClearOutput);\n",
       "\n",
       "    /* Handle when a new output is added */\n",
       "    events.on('output_added.OutputArea', handleAddOutput);\n",
       "\n",
       "    /**\n",
       "     * Register the mime type and append_mime function with output_area\n",
       "     */\n",
       "    OutputArea.prototype.register_mime_type(EXEC_MIME_TYPE, append_mime, {\n",
       "      /* Is output safe? */\n",
       "      safe: true,\n",
       "      /* Index of renderer in `output_area.display_order` */\n",
       "      index: 0\n",
       "    });\n",
       "  }\n",
       "\n",
       "  // register the mime type if in Jupyter Notebook environment and previously unregistered\n",
       "  if (root.Jupyter !== undefined) {\n",
       "    const events = require('base/js/events');\n",
       "    const OutputArea = require('notebook/js/outputarea').OutputArea;\n",
       "\n",
       "    if (OutputArea.prototype.mime_types().indexOf(EXEC_MIME_TYPE) == -1) {\n",
       "      register_renderer(events, OutputArea);\n",
       "    }\n",
       "  }\n",
       "  if (typeof (root._bokeh_timeout) === \"undefined\" || force === true) {\n",
       "    root._bokeh_timeout = Date.now() + 5000;\n",
       "    root._bokeh_failed_load = false;\n",
       "  }\n",
       "\n",
       "  const NB_LOAD_WARNING = {'data': {'text/html':\n",
       "     \"<div style='background-color: #fdd'>\\n\"+\n",
       "     \"<p>\\n\"+\n",
       "     \"BokehJS does not appear to have successfully loaded. If loading BokehJS from CDN, this \\n\"+\n",
       "     \"may be due to a slow or bad network connection. Possible fixes:\\n\"+\n",
       "     \"</p>\\n\"+\n",
       "     \"<ul>\\n\"+\n",
       "     \"<li>re-rerun `output_notebook()` to attempt to load from CDN again, or</li>\\n\"+\n",
       "     \"<li>use INLINE resources instead, as so:</li>\\n\"+\n",
       "     \"</ul>\\n\"+\n",
       "     \"<code>\\n\"+\n",
       "     \"from bokeh.resources import INLINE\\n\"+\n",
       "     \"output_notebook(resources=INLINE)\\n\"+\n",
       "     \"</code>\\n\"+\n",
       "     \"</div>\"}};\n",
       "\n",
       "  function display_loaded() {\n",
       "    const el = document.getElementById(\"e3557ef9-54e7-47f4-86da-314b06c70694\");\n",
       "    if (el != null) {\n",
       "      el.textContent = \"BokehJS is loading...\";\n",
       "    }\n",
       "    if (root.Bokeh !== undefined) {\n",
       "      if (el != null) {\n",
       "        el.textContent = \"BokehJS \" + root.Bokeh.version + \" successfully loaded.\";\n",
       "      }\n",
       "    } else if (Date.now() < root._bokeh_timeout) {\n",
       "      setTimeout(display_loaded, 100)\n",
       "    }\n",
       "  }\n",
       "\n",
       "  function run_callbacks() {\n",
       "    try {\n",
       "      root._bokeh_onload_callbacks.forEach(function(callback) {\n",
       "        if (callback != null)\n",
       "          callback();\n",
       "      });\n",
       "    } finally {\n",
       "      delete root._bokeh_onload_callbacks\n",
       "    }\n",
       "    console.debug(\"Bokeh: all callbacks have finished\");\n",
       "  }\n",
       "\n",
       "  function load_libs(css_urls, js_urls, callback) {\n",
       "    if (css_urls == null) css_urls = [];\n",
       "    if (js_urls == null) js_urls = [];\n",
       "\n",
       "    root._bokeh_onload_callbacks.push(callback);\n",
       "    if (root._bokeh_is_loading > 0) {\n",
       "      console.debug(\"Bokeh: BokehJS is being loaded, scheduling callback at\", now());\n",
       "      return null;\n",
       "    }\n",
       "    if (js_urls == null || js_urls.length === 0) {\n",
       "      run_callbacks();\n",
       "      return null;\n",
       "    }\n",
       "    console.debug(\"Bokeh: BokehJS not loaded, scheduling load and callback at\", now());\n",
       "    root._bokeh_is_loading = css_urls.length + js_urls.length;\n",
       "\n",
       "    function on_load() {\n",
       "      root._bokeh_is_loading--;\n",
       "      if (root._bokeh_is_loading === 0) {\n",
       "        console.debug(\"Bokeh: all BokehJS libraries/stylesheets loaded\");\n",
       "        run_callbacks()\n",
       "      }\n",
       "    }\n",
       "\n",
       "    function on_error(url) {\n",
       "      console.error(\"failed to load \" + url);\n",
       "    }\n",
       "\n",
       "    for (let i = 0; i < css_urls.length; i++) {\n",
       "      const url = css_urls[i];\n",
       "      const element = document.createElement(\"link\");\n",
       "      element.onload = on_load;\n",
       "      element.onerror = on_error.bind(null, url);\n",
       "      element.rel = \"stylesheet\";\n",
       "      element.type = \"text/css\";\n",
       "      element.href = url;\n",
       "      console.debug(\"Bokeh: injecting link tag for BokehJS stylesheet: \", url);\n",
       "      document.body.appendChild(element);\n",
       "    }\n",
       "\n",
       "    for (let i = 0; i < js_urls.length; i++) {\n",
       "      const url = js_urls[i];\n",
       "      const element = document.createElement('script');\n",
       "      element.onload = on_load;\n",
       "      element.onerror = on_error.bind(null, url);\n",
       "      element.async = false;\n",
       "      element.src = url;\n",
       "      console.debug(\"Bokeh: injecting script tag for BokehJS library: \", url);\n",
       "      document.head.appendChild(element);\n",
       "    }\n",
       "  };\n",
       "\n",
       "  function inject_raw_css(css) {\n",
       "    const element = document.createElement(\"style\");\n",
       "    element.appendChild(document.createTextNode(css));\n",
       "    document.body.appendChild(element);\n",
       "  }\n",
       "\n",
       "  const js_urls = [\"https://cdn.bokeh.org/bokeh/release/bokeh-3.3.4.min.js\", \"https://cdn.bokeh.org/bokeh/release/bokeh-gl-3.3.4.min.js\", \"https://cdn.bokeh.org/bokeh/release/bokeh-widgets-3.3.4.min.js\", \"https://cdn.bokeh.org/bokeh/release/bokeh-tables-3.3.4.min.js\", \"https://cdn.bokeh.org/bokeh/release/bokeh-mathjax-3.3.4.min.js\", \"https://unpkg.com/@holoviz/panel@1.3.8/dist/panel.min.js\"];\n",
       "  const css_urls = [];\n",
       "\n",
       "  const inline_js = [    function(Bokeh) {\n",
       "      Bokeh.set_log_level(\"info\");\n",
       "    },\n",
       "function(Bokeh) {\n",
       "    }\n",
       "  ];\n",
       "\n",
       "  function run_inline_js() {\n",
       "    if (root.Bokeh !== undefined || force === true) {\n",
       "          for (let i = 0; i < inline_js.length; i++) {\n",
       "      inline_js[i].call(root, root.Bokeh);\n",
       "    }\n",
       "if (force === true) {\n",
       "        display_loaded();\n",
       "      }} else if (Date.now() < root._bokeh_timeout) {\n",
       "      setTimeout(run_inline_js, 100);\n",
       "    } else if (!root._bokeh_failed_load) {\n",
       "      console.log(\"Bokeh: BokehJS failed to load within specified timeout.\");\n",
       "      root._bokeh_failed_load = true;\n",
       "    } else if (force !== true) {\n",
       "      const cell = $(document.getElementById(\"e3557ef9-54e7-47f4-86da-314b06c70694\")).parents('.cell').data().cell;\n",
       "      cell.output_area.append_execute_result(NB_LOAD_WARNING)\n",
       "    }\n",
       "  }\n",
       "\n",
       "  if (root._bokeh_is_loading === 0) {\n",
       "    console.debug(\"Bokeh: BokehJS loaded, going straight to plotting\");\n",
       "    run_inline_js();\n",
       "  } else {\n",
       "    load_libs(css_urls, js_urls, function() {\n",
       "      console.debug(\"Bokeh: BokehJS plotting callback run at\", now());\n",
       "      run_inline_js();\n",
       "    });\n",
       "  }\n",
       "}(window));"
      ],
      "application/vnd.bokehjs_load.v0+json": "(function(root) {\n  function now() {\n    return new Date();\n  }\n\n  const force = true;\n\n  if (typeof root._bokeh_onload_callbacks === \"undefined\" || force === true) {\n    root._bokeh_onload_callbacks = [];\n    root._bokeh_is_loading = undefined;\n  }\n\n\n  if (typeof (root._bokeh_timeout) === \"undefined\" || force === true) {\n    root._bokeh_timeout = Date.now() + 5000;\n    root._bokeh_failed_load = false;\n  }\n\n  const NB_LOAD_WARNING = {'data': {'text/html':\n     \"<div style='background-color: #fdd'>\\n\"+\n     \"<p>\\n\"+\n     \"BokehJS does not appear to have successfully loaded. If loading BokehJS from CDN, this \\n\"+\n     \"may be due to a slow or bad network connection. Possible fixes:\\n\"+\n     \"</p>\\n\"+\n     \"<ul>\\n\"+\n     \"<li>re-rerun `output_notebook()` to attempt to load from CDN again, or</li>\\n\"+\n     \"<li>use INLINE resources instead, as so:</li>\\n\"+\n     \"</ul>\\n\"+\n     \"<code>\\n\"+\n     \"from bokeh.resources import INLINE\\n\"+\n     \"output_notebook(resources=INLINE)\\n\"+\n     \"</code>\\n\"+\n     \"</div>\"}};\n\n  function display_loaded() {\n    const el = document.getElementById(\"e3557ef9-54e7-47f4-86da-314b06c70694\");\n    if (el != null) {\n      el.textContent = \"BokehJS is loading...\";\n    }\n    if (root.Bokeh !== undefined) {\n      if (el != null) {\n        el.textContent = \"BokehJS \" + root.Bokeh.version + \" successfully loaded.\";\n      }\n    } else if (Date.now() < root._bokeh_timeout) {\n      setTimeout(display_loaded, 100)\n    }\n  }\n\n  function run_callbacks() {\n    try {\n      root._bokeh_onload_callbacks.forEach(function(callback) {\n        if (callback != null)\n          callback();\n      });\n    } finally {\n      delete root._bokeh_onload_callbacks\n    }\n    console.debug(\"Bokeh: all callbacks have finished\");\n  }\n\n  function load_libs(css_urls, js_urls, callback) {\n    if (css_urls == null) css_urls = [];\n    if (js_urls == null) js_urls = [];\n\n    root._bokeh_onload_callbacks.push(callback);\n    if (root._bokeh_is_loading > 0) {\n      console.debug(\"Bokeh: BokehJS is being loaded, scheduling callback at\", now());\n      return null;\n    }\n    if (js_urls == null || js_urls.length === 0) {\n      run_callbacks();\n      return null;\n    }\n    console.debug(\"Bokeh: BokehJS not loaded, scheduling load and callback at\", now());\n    root._bokeh_is_loading = css_urls.length + js_urls.length;\n\n    function on_load() {\n      root._bokeh_is_loading--;\n      if (root._bokeh_is_loading === 0) {\n        console.debug(\"Bokeh: all BokehJS libraries/stylesheets loaded\");\n        run_callbacks()\n      }\n    }\n\n    function on_error(url) {\n      console.error(\"failed to load \" + url);\n    }\n\n    for (let i = 0; i < css_urls.length; i++) {\n      const url = css_urls[i];\n      const element = document.createElement(\"link\");\n      element.onload = on_load;\n      element.onerror = on_error.bind(null, url);\n      element.rel = \"stylesheet\";\n      element.type = \"text/css\";\n      element.href = url;\n      console.debug(\"Bokeh: injecting link tag for BokehJS stylesheet: \", url);\n      document.body.appendChild(element);\n    }\n\n    for (let i = 0; i < js_urls.length; i++) {\n      const url = js_urls[i];\n      const element = document.createElement('script');\n      element.onload = on_load;\n      element.onerror = on_error.bind(null, url);\n      element.async = false;\n      element.src = url;\n      console.debug(\"Bokeh: injecting script tag for BokehJS library: \", url);\n      document.head.appendChild(element);\n    }\n  };\n\n  function inject_raw_css(css) {\n    const element = document.createElement(\"style\");\n    element.appendChild(document.createTextNode(css));\n    document.body.appendChild(element);\n  }\n\n  const js_urls = [\"https://cdn.bokeh.org/bokeh/release/bokeh-3.3.4.min.js\", \"https://cdn.bokeh.org/bokeh/release/bokeh-gl-3.3.4.min.js\", \"https://cdn.bokeh.org/bokeh/release/bokeh-widgets-3.3.4.min.js\", \"https://cdn.bokeh.org/bokeh/release/bokeh-tables-3.3.4.min.js\", \"https://cdn.bokeh.org/bokeh/release/bokeh-mathjax-3.3.4.min.js\", \"https://unpkg.com/@holoviz/panel@1.3.8/dist/panel.min.js\"];\n  const css_urls = [];\n\n  const inline_js = [    function(Bokeh) {\n      Bokeh.set_log_level(\"info\");\n    },\nfunction(Bokeh) {\n    }\n  ];\n\n  function run_inline_js() {\n    if (root.Bokeh !== undefined || force === true) {\n          for (let i = 0; i < inline_js.length; i++) {\n      inline_js[i].call(root, root.Bokeh);\n    }\nif (force === true) {\n        display_loaded();\n      }} else if (Date.now() < root._bokeh_timeout) {\n      setTimeout(run_inline_js, 100);\n    } else if (!root._bokeh_failed_load) {\n      console.log(\"Bokeh: BokehJS failed to load within specified timeout.\");\n      root._bokeh_failed_load = true;\n    } else if (force !== true) {\n      const cell = $(document.getElementById(\"e3557ef9-54e7-47f4-86da-314b06c70694\")).parents('.cell').data().cell;\n      cell.output_area.append_execute_result(NB_LOAD_WARNING)\n    }\n  }\n\n  if (root._bokeh_is_loading === 0) {\n    console.debug(\"Bokeh: BokehJS loaded, going straight to plotting\");\n    run_inline_js();\n  } else {\n    load_libs(css_urls, js_urls, function() {\n      console.debug(\"Bokeh: BokehJS plotting callback run at\", now());\n      run_inline_js();\n    });\n  }\n}(window));"
     },
     "metadata": {},
     "output_type": "display_data"
    }
   ],
   "source": [
    "umap.plot.output_notebook()"
   ]
  },
  {
   "cell_type": "code",
   "execution_count": 16,
   "id": "36f750a6-3929-4762-a0d0-4e9296c3bae5",
   "metadata": {},
   "outputs": [
    {
     "data": {
      "text/html": [
       "\n",
       "  <div id=\"e1c978e3-808a-45e8-806a-cc490c09a21d\" data-root-id=\"p1101\" style=\"display: contents;\"></div>\n"
      ]
     },
     "metadata": {},
     "output_type": "display_data"
    },
    {
     "data": {
      "application/javascript": [
       "(function(root) {\n",
       "  function embed_document(root) {\n",
       "  const docs_json = {\"eb7be4c0-5704-47a5-b38b-0613ee2ab9a5\":{\"version\":\"3.3.4\",\"title\":\"Bokeh Application\",\"roots\":[{\"type\":\"object\",\"name\":\"Figure\",\"id\":\"p1101\",\"attributes\":{\"width\":800,\"height\":800,\"x_range\":{\"type\":\"object\",\"name\":\"DataRange1d\",\"id\":\"p1102\"},\"y_range\":{\"type\":\"object\",\"name\":\"DataRange1d\",\"id\":\"p1103\"},\"x_scale\":{\"type\":\"object\",\"name\":\"LinearScale\",\"id\":\"p1110\"},\"y_scale\":{\"type\":\"object\",\"name\":\"LinearScale\",\"id\":\"p1111\"},\"title\":{\"type\":\"object\",\"name\":\"Title\",\"id\":\"p1108\"},\"renderers\":[{\"type\":\"object\",\"name\":\"GlyphRenderer\",\"id\":\"p1139\",\"attributes\":{\"data_source\":{\"type\":\"object\",\"name\":\"ColumnDataSource\",\"id\":\"p1098\",\"attributes\":{\"selected\":{\"type\":\"object\",\"name\":\"Selection\",\"id\":\"p1099\",\"attributes\":{\"indices\":[],\"line_indices\":[]}},\"selection_policy\":{\"type\":\"object\",\"name\":\"UnionRenderers\",\"id\":\"p1100\"},\"data\":{\"type\":\"map\",\"entries\":[[\"index\",{\"type\":\"ndarray\",\"array\":{\"type\":\"bytes\",\"data\":\"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\"},\"shape\":[1017],\"dtype\":\"int32\",\"order\":\"little\"}],[\"x\",{\"type\":\"ndarray\",\"array\":{\"type\":\"bytes\",\"data\":\"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\"},\"shape\":[1017],\"dtype\":\"float32\",\"order\":\"little\"}],[\"y\",{\"type\":\"ndarray\",\"array\":{\"type\":\"bytes\",\"data\":\"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\"},\"shape\":[1017],\"dtype\":\"float32\",\"order\":\"little\"}],[\"label\",{\"type\":\"ndarray\",\"array\":[0,0,0,0,0,1,0,0,0,0,0,0,0,0,0,0,0,0,1,1,0,0,0,0,1,0,0,0,0,1,0,1,0,1,0,0,0,0,0,0,0,0,0,0,0,1,0,1,0,0,1,0,0,1,0,0,0,0,1,0,1,0,0,1,0,0,0,0,1,0,0,1,1,0,0,0,0,1,1,0,0,0,0,0,0,0,0,0,0,0,0,1,0,0,0,0,0,0,0,0,0,0,0,0,1,0,0,0,0,0,0,0,0,1,0,1,1,0,0,0,1,0,0,0,0,0,0,1,0,0,0,0,0,1,1,0,0,1,0,0,1,0,1,0,0,0,0,0,0,0,0,0,0,0,0,0,1,1,0,0,0,0,0,0,0,0,0,0,0,0,0,0,0,0,0,0,0,0,0,0,0,0,0,0,0,0,0,0,0,0,0,0,0,1,1,0,0,0,0,0,0,0,0,0,0,0,1,1,0,0,0,0,0,0,0,0,1,0,0,0,0,1,0,0,0,0,0,0,0,0,0,0,0,0,0,0,1,0,0,0,0,2,0,0,0,0,0,0,0,1,0,0,0,0,0,0,0,1,0,0,0,0,1,0,0,0,1,0,0,0,0,0,0,0,0,0,0,0,0,0,0,0,0,0,0,0,0,1,0,0,0,0,0,1,0,0,0,0,0,0,0,0,0,1,0,0,1,0,1,0,0,0,0,1,0,0,0,0,1,0,0,0,0,0,0,0,0,0,0,1,0,0,0,0,0,0,0,0,0,0,0,0,0,0,0,0,0,0,1,0,0,1,0,0,0,0,0,0,0,0,0,1,0,0,0,0,0,0,0,0,0,0,0,1,0,0,0,0,0,0,0,0,0,1,0,1,0,0,0,1,0,0,0,0,1,0,0,0,0,0,1,0,0,0,0,0,0,0,0,0,0,0,0,1,0,1,0,0,0,0,1,0,0,0,0,0,0,0,0,0,1,1,0,0,1,0,0,0,0,0,0,1,0,0,0,0,0,1,0,0,0,0,1,0,0,0,0,0,0,0,0,1,0,0,0,0,0,0,0,0,0,0,0,0,1,0,0,1,0,0,0,0,0,0,0,0,0,1,0,0,0,1,0,0,0,0,1,0,0,0,0,0,1,1,0,0,0,0,0,0,0,1,0,0,0,0,0,0,1,0,1,1,0,1,1,1,0,0,0,0,1,0,0,0,0,0,0,0,0,0,0,1,0,0,0,0,0,0,0,0,0,0,0,0,0,0,0,0,2,0,0,0,0,0,0,1,0,0,0,0,0,0,0,1,1,0,0,0,0,0,0,0,0,0,0,0,0,1,0,0,0,0,0,0,1,0,0,0,0,0,0,0,0,0,0,0,0,0,1,0,0,0,0,0,0,0,1,0,1,0,0,0,0,0,0,1,1,1,0,0,0,0,0,0,0,0,0,0,0,1,0,0,0,0,1,0,0,0,0,0,0,0,0,1,0,0,1,0,0,0,0,0,0,2,0,0,0,0,0,0,0,1,2,0,0,1,0,0,0,0,0,0,0,2,0,0,0,0,1,0,1,0,0,0,0,1,1,0,0,0,0,0,1,0,0,0,0,0,0,0,1,1,0,0,0,0,0,0,1,0,0,0,1,0,1,0,1,1,0,0,0,0,0,1,0,0,0,0,0,1,0,1,1,0,0,1,0,0,0,0,0,0,0,1,0,0,0,0,0,0,0,0,0,1,0,0,0,0,0,1,0,0,1,0,0,0,0,1,0,0,1,0,0,0,0,1,0,0,0,0,1,0,0,1,0,0,1,0,0,0,0,0,0,0,1,0,0,0,1,0,0,0,0,0,0,0,0,0,0,1,2,0,0,0,1,1,0,0,1,1,0,0,1,0,1,0,0,0,1,0,0,0,0,1,0,0,0,1,0,0,1,0,1,0,0,1,1,0,0,0,0,0,0,1,0,0,1,0,0,0,0,0,0,1,0,0,0,1,0,0,0,0,0,1,1,0,0,0,0,0,0,0,0,1,0,0,0,0,1,0,1,0,0,0,1,0,0,0,0,0,0,0,0,0,0,0,0,0,0,0,0,0,0,0,0,0,0,0,0,0,0,0,0,0,1,0,0,1,0,0,0,0,0,1,0,0,0,0,0,1,0,0,1,0,0,1,1,0,0,0,0,0,0,0,0,0,0,0,0,0,0,0,0,0,0,0,0,1,1,1,0,1,0,0,0,0,0,1,1,0,0,0,0,1,0,0,0,0,0,0,0,0,0,0,0,0,1,1,1,0,0,0,0,1,0,0,1],\"shape\":[1017],\"dtype\":\"object\",\"order\":\"little\"}],[\"color\",{\"type\":\"ndarray\",\"array\":[\"#8000ff\",\"#8000ff\",\"#8000ff\",\"#8000ff\",\"#8000ff\",\"#80ffb4\",\"#8000ff\",\"#8000ff\",\"#8000ff\",\"#8000ff\",\"#8000ff\",\"#8000ff\",\"#8000ff\",\"#8000ff\",\"#8000ff\",\"#8000ff\",\"#8000ff\",\"#8000ff\",\"#80ffb4\",\"#80ffb4\",\"#8000ff\",\"#8000ff\",\"#8000ff\",\"#8000ff\",\"#80ffb4\",\"#8000ff\",\"#8000ff\",\"#8000ff\",\"#8000ff\",\"#80ffb4\",\"#8000ff\",\"#80ffb4\",\"#8000ff\",\"#80ffb4\",\"#8000ff\",\"#8000ff\",\"#8000ff\",\"#8000ff\",\"#8000ff\",\"#8000ff\",\"#8000ff\",\"#8000ff\",\"#8000ff\",\"#8000ff\",\"#8000ff\",\"#80ffb4\",\"#8000ff\",\"#80ffb4\",\"#8000ff\",\"#8000ff\",\"#80ffb4\",\"#8000ff\",\"#8000ff\",\"#80ffb4\",\"#8000ff\",\"#8000ff\",\"#8000ff\",\"#8000ff\",\"#80ffb4\",\"#8000ff\",\"#80ffb4\",\"#8000ff\",\"#8000ff\",\"#80ffb4\",\"#8000ff\",\"#8000ff\",\"#8000ff\",\"#8000ff\",\"#80ffb4\",\"#8000ff\",\"#8000ff\",\"#80ffb4\",\"#80ffb4\",\"#8000ff\",\"#8000ff\",\"#8000ff\",\"#8000ff\",\"#80ffb4\",\"#80ffb4\",\"#8000ff\",\"#8000ff\",\"#8000ff\",\"#8000ff\",\"#8000ff\",\"#8000ff\",\"#8000ff\",\"#8000ff\",\"#8000ff\",\"#8000ff\",\"#8000ff\",\"#8000ff\",\"#80ffb4\",\"#8000ff\",\"#8000ff\",\"#8000ff\",\"#8000ff\",\"#8000ff\",\"#8000ff\",\"#8000ff\",\"#8000ff\",\"#8000ff\",\"#8000ff\",\"#8000ff\",\"#8000ff\",\"#80ffb4\",\"#8000ff\",\"#8000ff\",\"#8000ff\",\"#8000ff\",\"#8000ff\",\"#8000ff\",\"#8000ff\",\"#8000ff\",\"#80ffb4\",\"#8000ff\",\"#80ffb4\",\"#80ffb4\",\"#8000ff\",\"#8000ff\",\"#8000ff\",\"#80ffb4\",\"#8000ff\",\"#8000ff\",\"#8000ff\",\"#8000ff\",\"#8000ff\",\"#8000ff\",\"#80ffb4\",\"#8000ff\",\"#8000ff\",\"#8000ff\",\"#8000ff\",\"#8000ff\",\"#80ffb4\",\"#80ffb4\",\"#8000ff\",\"#8000ff\",\"#80ffb4\",\"#8000ff\",\"#8000ff\",\"#80ffb4\",\"#8000ff\",\"#80ffb4\",\"#8000ff\",\"#8000ff\",\"#8000ff\",\"#8000ff\",\"#8000ff\",\"#8000ff\",\"#8000ff\",\"#8000ff\",\"#8000ff\",\"#8000ff\",\"#8000ff\",\"#8000ff\",\"#8000ff\",\"#80ffb4\",\"#80ffb4\",\"#8000ff\",\"#8000ff\",\"#8000ff\",\"#8000ff\",\"#8000ff\",\"#8000ff\",\"#8000ff\",\"#8000ff\",\"#8000ff\",\"#8000ff\",\"#8000ff\",\"#8000ff\",\"#8000ff\",\"#8000ff\",\"#8000ff\",\"#8000ff\",\"#8000ff\",\"#8000ff\",\"#8000ff\",\"#8000ff\",\"#8000ff\",\"#8000ff\",\"#8000ff\",\"#8000ff\",\"#8000ff\",\"#8000ff\",\"#8000ff\",\"#8000ff\",\"#8000ff\",\"#8000ff\",\"#8000ff\",\"#8000ff\",\"#8000ff\",\"#8000ff\",\"#8000ff\",\"#80ffb4\",\"#80ffb4\",\"#8000ff\",\"#8000ff\",\"#8000ff\",\"#8000ff\",\"#8000ff\",\"#8000ff\",\"#8000ff\",\"#8000ff\",\"#8000ff\",\"#8000ff\",\"#8000ff\",\"#80ffb4\",\"#80ffb4\",\"#8000ff\",\"#8000ff\",\"#8000ff\",\"#8000ff\",\"#8000ff\",\"#8000ff\",\"#8000ff\",\"#8000ff\",\"#80ffb4\",\"#8000ff\",\"#8000ff\",\"#8000ff\",\"#8000ff\",\"#80ffb4\",\"#8000ff\",\"#8000ff\",\"#8000ff\",\"#8000ff\",\"#8000ff\",\"#8000ff\",\"#8000ff\",\"#8000ff\",\"#8000ff\",\"#8000ff\",\"#8000ff\",\"#8000ff\",\"#8000ff\",\"#8000ff\",\"#80ffb4\",\"#8000ff\",\"#8000ff\",\"#8000ff\",\"#8000ff\",\"#ff0000\",\"#8000ff\",\"#8000ff\",\"#8000ff\",\"#8000ff\",\"#8000ff\",\"#8000ff\",\"#8000ff\",\"#80ffb4\",\"#8000ff\",\"#8000ff\",\"#8000ff\",\"#8000ff\",\"#8000ff\",\"#8000ff\",\"#8000ff\",\"#80ffb4\",\"#8000ff\",\"#8000ff\",\"#8000ff\",\"#8000ff\",\"#80ffb4\",\"#8000ff\",\"#8000ff\",\"#8000ff\",\"#80ffb4\",\"#8000ff\",\"#8000ff\",\"#8000ff\",\"#8000ff\",\"#8000ff\",\"#8000ff\",\"#8000ff\",\"#8000ff\",\"#8000ff\",\"#8000ff\",\"#8000ff\",\"#8000ff\",\"#8000ff\",\"#8000ff\",\"#8000ff\",\"#8000ff\",\"#8000ff\",\"#8000ff\",\"#8000ff\",\"#8000ff\",\"#80ffb4\",\"#8000ff\",\"#8000ff\",\"#8000ff\",\"#8000ff\",\"#8000ff\",\"#80ffb4\",\"#8000ff\",\"#8000ff\",\"#8000ff\",\"#8000ff\",\"#8000ff\",\"#8000ff\",\"#8000ff\",\"#8000ff\",\"#8000ff\",\"#80ffb4\",\"#8000ff\",\"#8000ff\",\"#80ffb4\",\"#8000ff\",\"#80ffb4\",\"#8000ff\",\"#8000ff\",\"#8000ff\",\"#8000ff\",\"#80ffb4\",\"#8000ff\",\"#8000ff\",\"#8000ff\",\"#8000ff\",\"#80ffb4\",\"#8000ff\",\"#8000ff\",\"#8000ff\",\"#8000ff\",\"#8000ff\",\"#8000ff\",\"#8000ff\",\"#8000ff\",\"#8000ff\",\"#8000ff\",\"#80ffb4\",\"#8000ff\",\"#8000ff\",\"#8000ff\",\"#8000ff\",\"#8000ff\",\"#8000ff\",\"#8000ff\",\"#8000ff\",\"#8000ff\",\"#8000ff\",\"#8000ff\",\"#8000ff\",\"#8000ff\",\"#8000ff\",\"#8000ff\",\"#8000ff\",\"#8000ff\",\"#8000ff\",\"#80ffb4\",\"#8000ff\",\"#8000ff\",\"#80ffb4\",\"#8000ff\",\"#8000ff\",\"#8000ff\",\"#8000ff\",\"#8000ff\",\"#8000ff\",\"#8000ff\",\"#8000ff\",\"#8000ff\",\"#80ffb4\",\"#8000ff\",\"#8000ff\",\"#8000ff\",\"#8000ff\",\"#8000ff\",\"#8000ff\",\"#8000ff\",\"#8000ff\",\"#8000ff\",\"#8000ff\",\"#8000ff\",\"#80ffb4\",\"#8000ff\",\"#8000ff\",\"#8000ff\",\"#8000ff\",\"#8000ff\",\"#8000ff\",\"#8000ff\",\"#8000ff\",\"#8000ff\",\"#80ffb4\",\"#8000ff\",\"#80ffb4\",\"#8000ff\",\"#8000ff\",\"#8000ff\",\"#80ffb4\",\"#8000ff\",\"#8000ff\",\"#8000ff\",\"#8000ff\",\"#80ffb4\",\"#8000ff\",\"#8000ff\",\"#8000ff\",\"#8000ff\",\"#8000ff\",\"#80ffb4\",\"#8000ff\",\"#8000ff\",\"#8000ff\",\"#8000ff\",\"#8000ff\",\"#8000ff\",\"#8000ff\",\"#8000ff\",\"#8000ff\",\"#8000ff\",\"#8000ff\",\"#8000ff\",\"#80ffb4\",\"#8000ff\",\"#80ffb4\",\"#8000ff\",\"#8000ff\",\"#8000ff\",\"#8000ff\",\"#80ffb4\",\"#8000ff\",\"#8000ff\",\"#8000ff\",\"#8000ff\",\"#8000ff\",\"#8000ff\",\"#8000ff\",\"#8000ff\",\"#8000ff\",\"#80ffb4\",\"#80ffb4\",\"#8000ff\",\"#8000ff\",\"#80ffb4\",\"#8000ff\",\"#8000ff\",\"#8000ff\",\"#8000ff\",\"#8000ff\",\"#8000ff\",\"#80ffb4\",\"#8000ff\",\"#8000ff\",\"#8000ff\",\"#8000ff\",\"#8000ff\",\"#80ffb4\",\"#8000ff\",\"#8000ff\",\"#8000ff\",\"#8000ff\",\"#80ffb4\",\"#8000ff\",\"#8000ff\",\"#8000ff\",\"#8000ff\",\"#8000ff\",\"#8000ff\",\"#8000ff\",\"#8000ff\",\"#80ffb4\",\"#8000ff\",\"#8000ff\",\"#8000ff\",\"#8000ff\",\"#8000ff\",\"#8000ff\",\"#8000ff\",\"#8000ff\",\"#8000ff\",\"#8000ff\",\"#8000ff\",\"#8000ff\",\"#80ffb4\",\"#8000ff\",\"#8000ff\",\"#80ffb4\",\"#8000ff\",\"#8000ff\",\"#8000ff\",\"#8000ff\",\"#8000ff\",\"#8000ff\",\"#8000ff\",\"#8000ff\",\"#8000ff\",\"#80ffb4\",\"#8000ff\",\"#8000ff\",\"#8000ff\",\"#80ffb4\",\"#8000ff\",\"#8000ff\",\"#8000ff\",\"#8000ff\",\"#80ffb4\",\"#8000ff\",\"#8000ff\",\"#8000ff\",\"#8000ff\",\"#8000ff\",\"#80ffb4\",\"#80ffb4\",\"#8000ff\",\"#8000ff\",\"#8000ff\",\"#8000ff\",\"#8000ff\",\"#8000ff\",\"#8000ff\",\"#80ffb4\",\"#8000ff\",\"#8000ff\",\"#8000ff\",\"#8000ff\",\"#8000ff\",\"#8000ff\",\"#80ffb4\",\"#8000ff\",\"#80ffb4\",\"#80ffb4\",\"#8000ff\",\"#80ffb4\",\"#80ffb4\",\"#80ffb4\",\"#8000ff\",\"#8000ff\",\"#8000ff\",\"#8000ff\",\"#80ffb4\",\"#8000ff\",\"#8000ff\",\"#8000ff\",\"#8000ff\",\"#8000ff\",\"#8000ff\",\"#8000ff\",\"#8000ff\",\"#8000ff\",\"#8000ff\",\"#80ffb4\",\"#8000ff\",\"#8000ff\",\"#8000ff\",\"#8000ff\",\"#8000ff\",\"#8000ff\",\"#8000ff\",\"#8000ff\",\"#8000ff\",\"#8000ff\",\"#8000ff\",\"#8000ff\",\"#8000ff\",\"#8000ff\",\"#8000ff\",\"#8000ff\",\"#ff0000\",\"#8000ff\",\"#8000ff\",\"#8000ff\",\"#8000ff\",\"#8000ff\",\"#8000ff\",\"#80ffb4\",\"#8000ff\",\"#8000ff\",\"#8000ff\",\"#8000ff\",\"#8000ff\",\"#8000ff\",\"#8000ff\",\"#80ffb4\",\"#80ffb4\",\"#8000ff\",\"#8000ff\",\"#8000ff\",\"#8000ff\",\"#8000ff\",\"#8000ff\",\"#8000ff\",\"#8000ff\",\"#8000ff\",\"#8000ff\",\"#8000ff\",\"#8000ff\",\"#80ffb4\",\"#8000ff\",\"#8000ff\",\"#8000ff\",\"#8000ff\",\"#8000ff\",\"#8000ff\",\"#80ffb4\",\"#8000ff\",\"#8000ff\",\"#8000ff\",\"#8000ff\",\"#8000ff\",\"#8000ff\",\"#8000ff\",\"#8000ff\",\"#8000ff\",\"#8000ff\",\"#8000ff\",\"#8000ff\",\"#8000ff\",\"#80ffb4\",\"#8000ff\",\"#8000ff\",\"#8000ff\",\"#8000ff\",\"#8000ff\",\"#8000ff\",\"#8000ff\",\"#80ffb4\",\"#8000ff\",\"#80ffb4\",\"#8000ff\",\"#8000ff\",\"#8000ff\",\"#8000ff\",\"#8000ff\",\"#8000ff\",\"#80ffb4\",\"#80ffb4\",\"#80ffb4\",\"#8000ff\",\"#8000ff\",\"#8000ff\",\"#8000ff\",\"#8000ff\",\"#8000ff\",\"#8000ff\",\"#8000ff\",\"#8000ff\",\"#8000ff\",\"#8000ff\",\"#80ffb4\",\"#8000ff\",\"#8000ff\",\"#8000ff\",\"#8000ff\",\"#80ffb4\",\"#8000ff\",\"#8000ff\",\"#8000ff\",\"#8000ff\",\"#8000ff\",\"#8000ff\",\"#8000ff\",\"#8000ff\",\"#80ffb4\",\"#8000ff\",\"#8000ff\",\"#80ffb4\",\"#8000ff\",\"#8000ff\",\"#8000ff\",\"#8000ff\",\"#8000ff\",\"#8000ff\",\"#ff0000\",\"#8000ff\",\"#8000ff\",\"#8000ff\",\"#8000ff\",\"#8000ff\",\"#8000ff\",\"#8000ff\",\"#80ffb4\",\"#ff0000\",\"#8000ff\",\"#8000ff\",\"#80ffb4\",\"#8000ff\",\"#8000ff\",\"#8000ff\",\"#8000ff\",\"#8000ff\",\"#8000ff\",\"#8000ff\",\"#ff0000\",\"#8000ff\",\"#8000ff\",\"#8000ff\",\"#8000ff\",\"#80ffb4\",\"#8000ff\",\"#80ffb4\",\"#8000ff\",\"#8000ff\",\"#8000ff\",\"#8000ff\",\"#80ffb4\",\"#80ffb4\",\"#8000ff\",\"#8000ff\",\"#8000ff\",\"#8000ff\",\"#8000ff\",\"#80ffb4\",\"#8000ff\",\"#8000ff\",\"#8000ff\",\"#8000ff\",\"#8000ff\",\"#8000ff\",\"#8000ff\",\"#80ffb4\",\"#80ffb4\",\"#8000ff\",\"#8000ff\",\"#8000ff\",\"#8000ff\",\"#8000ff\",\"#8000ff\",\"#80ffb4\",\"#8000ff\",\"#8000ff\",\"#8000ff\",\"#80ffb4\",\"#8000ff\",\"#80ffb4\",\"#8000ff\",\"#80ffb4\",\"#80ffb4\",\"#8000ff\",\"#8000ff\",\"#8000ff\",\"#8000ff\",\"#8000ff\",\"#80ffb4\",\"#8000ff\",\"#8000ff\",\"#8000ff\",\"#8000ff\",\"#8000ff\",\"#80ffb4\",\"#8000ff\",\"#80ffb4\",\"#80ffb4\",\"#8000ff\",\"#8000ff\",\"#80ffb4\",\"#8000ff\",\"#8000ff\",\"#8000ff\",\"#8000ff\",\"#8000ff\",\"#8000ff\",\"#8000ff\",\"#80ffb4\",\"#8000ff\",\"#8000ff\",\"#8000ff\",\"#8000ff\",\"#8000ff\",\"#8000ff\",\"#8000ff\",\"#8000ff\",\"#8000ff\",\"#80ffb4\",\"#8000ff\",\"#8000ff\",\"#8000ff\",\"#8000ff\",\"#8000ff\",\"#80ffb4\",\"#8000ff\",\"#8000ff\",\"#80ffb4\",\"#8000ff\",\"#8000ff\",\"#8000ff\",\"#8000ff\",\"#80ffb4\",\"#8000ff\",\"#8000ff\",\"#80ffb4\",\"#8000ff\",\"#8000ff\",\"#8000ff\",\"#8000ff\",\"#80ffb4\",\"#8000ff\",\"#8000ff\",\"#8000ff\",\"#8000ff\",\"#80ffb4\",\"#8000ff\",\"#8000ff\",\"#80ffb4\",\"#8000ff\",\"#8000ff\",\"#80ffb4\",\"#8000ff\",\"#8000ff\",\"#8000ff\",\"#8000ff\",\"#8000ff\",\"#8000ff\",\"#8000ff\",\"#80ffb4\",\"#8000ff\",\"#8000ff\",\"#8000ff\",\"#80ffb4\",\"#8000ff\",\"#8000ff\",\"#8000ff\",\"#8000ff\",\"#8000ff\",\"#8000ff\",\"#8000ff\",\"#8000ff\",\"#8000ff\",\"#8000ff\",\"#80ffb4\",\"#ff0000\",\"#8000ff\",\"#8000ff\",\"#8000ff\",\"#80ffb4\",\"#80ffb4\",\"#8000ff\",\"#8000ff\",\"#80ffb4\",\"#80ffb4\",\"#8000ff\",\"#8000ff\",\"#80ffb4\",\"#8000ff\",\"#80ffb4\",\"#8000ff\",\"#8000ff\",\"#8000ff\",\"#80ffb4\",\"#8000ff\",\"#8000ff\",\"#8000ff\",\"#8000ff\",\"#80ffb4\",\"#8000ff\",\"#8000ff\",\"#8000ff\",\"#80ffb4\",\"#8000ff\",\"#8000ff\",\"#80ffb4\",\"#8000ff\",\"#80ffb4\",\"#8000ff\",\"#8000ff\",\"#80ffb4\",\"#80ffb4\",\"#8000ff\",\"#8000ff\",\"#8000ff\",\"#8000ff\",\"#8000ff\",\"#8000ff\",\"#80ffb4\",\"#8000ff\",\"#8000ff\",\"#80ffb4\",\"#8000ff\",\"#8000ff\",\"#8000ff\",\"#8000ff\",\"#8000ff\",\"#8000ff\",\"#80ffb4\",\"#8000ff\",\"#8000ff\",\"#8000ff\",\"#80ffb4\",\"#8000ff\",\"#8000ff\",\"#8000ff\",\"#8000ff\",\"#8000ff\",\"#80ffb4\",\"#80ffb4\",\"#8000ff\",\"#8000ff\",\"#8000ff\",\"#8000ff\",\"#8000ff\",\"#8000ff\",\"#8000ff\",\"#8000ff\",\"#80ffb4\",\"#8000ff\",\"#8000ff\",\"#8000ff\",\"#8000ff\",\"#80ffb4\",\"#8000ff\",\"#80ffb4\",\"#8000ff\",\"#8000ff\",\"#8000ff\",\"#80ffb4\",\"#8000ff\",\"#8000ff\",\"#8000ff\",\"#8000ff\",\"#8000ff\",\"#8000ff\",\"#8000ff\",\"#8000ff\",\"#8000ff\",\"#8000ff\",\"#8000ff\",\"#8000ff\",\"#8000ff\",\"#8000ff\",\"#8000ff\",\"#8000ff\",\"#8000ff\",\"#8000ff\",\"#8000ff\",\"#8000ff\",\"#8000ff\",\"#8000ff\",\"#8000ff\",\"#8000ff\",\"#8000ff\",\"#8000ff\",\"#8000ff\",\"#8000ff\",\"#8000ff\",\"#80ffb4\",\"#8000ff\",\"#8000ff\",\"#80ffb4\",\"#8000ff\",\"#8000ff\",\"#8000ff\",\"#8000ff\",\"#8000ff\",\"#80ffb4\",\"#8000ff\",\"#8000ff\",\"#8000ff\",\"#8000ff\",\"#8000ff\",\"#80ffb4\",\"#8000ff\",\"#8000ff\",\"#80ffb4\",\"#8000ff\",\"#8000ff\",\"#80ffb4\",\"#80ffb4\",\"#8000ff\",\"#8000ff\",\"#8000ff\",\"#8000ff\",\"#8000ff\",\"#8000ff\",\"#8000ff\",\"#8000ff\",\"#8000ff\",\"#8000ff\",\"#8000ff\",\"#8000ff\",\"#8000ff\",\"#8000ff\",\"#8000ff\",\"#8000ff\",\"#8000ff\",\"#8000ff\",\"#8000ff\",\"#8000ff\",\"#80ffb4\",\"#80ffb4\",\"#80ffb4\",\"#8000ff\",\"#80ffb4\",\"#8000ff\",\"#8000ff\",\"#8000ff\",\"#8000ff\",\"#8000ff\",\"#80ffb4\",\"#80ffb4\",\"#8000ff\",\"#8000ff\",\"#8000ff\",\"#8000ff\",\"#80ffb4\",\"#8000ff\",\"#8000ff\",\"#8000ff\",\"#8000ff\",\"#8000ff\",\"#8000ff\",\"#8000ff\",\"#8000ff\",\"#8000ff\",\"#8000ff\",\"#8000ff\",\"#8000ff\",\"#80ffb4\",\"#80ffb4\",\"#80ffb4\",\"#8000ff\",\"#8000ff\",\"#8000ff\",\"#8000ff\",\"#80ffb4\",\"#8000ff\",\"#8000ff\",\"#80ffb4\"],\"shape\":[1017],\"dtype\":\"object\",\"order\":\"little\"}],[\"alpha\",{\"type\":\"ndarray\",\"array\":{\"type\":\"bytes\",\"data\":\"AQAAAAEAAAABAAAAAQAAAAEAAAABAAAAAQAAAAEAAAABAAAAAQAAAAEAAAABAAAAAQAAAAEAAAABAAAAAQAAAAEAAAABAAAAAQAAAAEAAAABAAAAAQAAAAEAAAABAAAAAQAAAAEAAAABAAAAAQAAAAEAAAABAAAAAQAAAAEAAAABAAAAAQAAAAEAAAABAAAAAQAAAAEAAAABAAAAAQAAAAEAAAABAAAAAQAAAAEAAAABAAAAAQAAAAEAAAABAAAAAQAAAAEAAAABAAAAAQAAAAEAAAABAAAAAQAAAAEAAAABAAAAAQAAAAEAAAABAAAAAQAAAAEAAAABAAAAAQAAAAEAAAABAAAAAQAAAAEAAAABAAAAAQAAAAEAAAABAAAAAQAAAAEAAAABAAAAAQAAAAEAAAABAAAAAQAAAAEAAAABAAAAAQAAAAEAAAABAAAAAQAAAAEAAAABAAAAAQAAAAEAAAABAAAAAQAAAAEAAAABAAAAAQAAAAEAAAABAAAAAQAAAAEAAAABAAAAAQAAAAEAAAABAAAAAQAAAAEAAAABAAAAAQAAAAEAAAABAAAAAQAAAAEAAAABAAAAAQAAAAEAAAABAAAAAQAAAAEAAAABAAAAAQAAAAEAAAABAAAAAQAAAAEAAAABAAAAAQAAAAEAAAABAAAAAQAAAAEAAAABAAAAAQAAAAEAAAABAAAAAQAAAAEAAAABAAAAAQAAAAEAAAABAAAAAQAAAAEAAAABAAAAAQAAAAEAAAABAAAAAQAAAAEAAAABAAAAAQAAAAEAAAABAAAAAQAAAAEAAAABAAAAAQAAAAEAAAABAAAAAQAAAAEAAAABAAAAAQAAAAEAAAABAAAAAQAAAAEAAAABAAAAAQAAAAEAAAABAAAAAQAAAAEAAAABAAAAAQAAAAEAAAABAAAAAQAAAAEAAAABAAAAAQAAAAEAAAABAAAAAQAAAAEAAAABAAAAAQAAAAEAAAABAAAAAQAAAAEAAAABAAAAAQAAAAEAAAABAAAAAQAAAAEAAAABAAAAAQAAAAEAAAABAAAAAQAAAAEAAAABAAAAAQAAAAEAAAABAAAAAQAAAAEAAAABAAAAAQAAAAEAAAABAAAAAQAAAAEAAAABAAAAAQAAAAEAAAABAAAAAQAAAAEAAAABAAAAAQAAAAEAAAABAAAAAQAAAAEAAAABAAAAAQAAAAEAAAABAAAAAQAAAAEAAAABAAAAAQAAAAEAAAABAAAAAQAAAAEAAAABAAAAAQAAAAEAAAABAAAAAQAAAAEAAAABAAAAAQAAAAEAAAABAAAAAQAAAAEAAAABAAAAAQAAAAEAAAABAAAAAQAAAAEAAAABAAAAAQAAAAEAAAABAAAAAQAAAAEAAAABAAAAAQAAAAEAAAABAAAAAQAAAAEAAAABAAAAAQAAAAEAAAABAAAAAQAAAAEAAAABAAAAAQAAAAEAAAABAAAAAQAAAAEAAAABAAAAAQAAAAEAAAABAAAAAQAAAAEAAAABAAAAAQAAAAEAAAABAAAAAQAAAAEAAAABAAAAAQAAAAEAAAABAAAAAQAAAAEAAAABAAAAAQAAAAEAAAABAAAAAQAAAAEAAAABAAAAAQAAAAEAAAABAAAAAQAAAAEAAAABAAAAAQAAAAEAAAABAAAAAQAAAAEAAAABAAAAAQAAAAEAAAABAAAAAQAAAAEAAAABAAAAAQAAAAEAAAABAAAAAQAAAAEAAAABAAAAAQAAAAEAAAABAAAAAQAAAAEAAAABAAAAAQAAAAEAAAABAAAAAQAAAAEAAAABAAAAAQAAAAEAAAABAAAAAQAAAAEAAAABAAAAAQAAAAEAAAABAAAAAQAAAAEAAAABAAAAAQAAAAEAAAABAAAAAQAAAAEAAAABAAAAAQAAAAEAAAABAAAAAQAAAAEAAAABAAAAAQAAAAEAAAABAAAAAQAAAAEAAAABAAAAAQAAAAEAAAABAAAAAQAAAAEAAAABAAAAAQAAAAEAAAABAAAAAQAAAAEAAAABAAAAAQAAAAEAAAABAAAAAQAAAAEAAAABAAAAAQAAAAEAAAABAAAAAQAAAAEAAAABAAAAAQAAAAEAAAABAAAAAQAAAAEAAAABAAAAAQAAAAEAAAABAAAAAQAAAAEAAAABAAAAAQAAAAEAAAABAAAAAQAAAAEAAAABAAAAAQAAAAEAAAABAAAAAQAAAAEAAAABAAAAAQAAAAEAAAABAAAAAQAAAAEAAAABAAAAAQAAAAEAAAABAAAAAQAAAAEAAAABAAAAAQAAAAEAAAABAAAAAQAAAAEAAAABAAAAAQAAAAEAAAABAAAAAQAAAAEAAAABAAAAAQAAAAEAAAABAAAAAQAAAAEAAAABAAAAAQAAAAEAAAABAAAAAQAAAAEAAAABAAAAAQAAAAEAAAABAAAAAQAAAAEAAAABAAAAAQAAAAEAAAABAAAAAQAAAAEAAAABAAAAAQAAAAEAAAABAAAAAQAAAAEAAAABAAAAAQAAAAEAAAABAAAAAQAAAAEAAAABAAAAAQAAAAEAAAABAAAAAQAAAAEAAAABAAAAAQAAAAEAAAABAAAAAQAAAAEAAAABAAAAAQAAAAEAAAABAAAAAQAAAAEAAAABAAAAAQAAAAEAAAABAAAAAQAAAAEAAAABAAAAAQAAAAEAAAABAAAAAQAAAAEAAAABAAAAAQAAAAEAAAABAAAAAQAAAAEAAAABAAAAAQAAAAEAAAABAAAAAQAAAAEAAAABAAAAAQAAAAEAAAABAAAAAQAAAAEAAAABAAAAAQAAAAEAAAABAAAAAQAAAAEAAAABAAAAAQAAAAEAAAABAAAAAQAAAAEAAAABAAAAAQAAAAEAAAABAAAAAQAAAAEAAAABAAAAAQAAAAEAAAABAAAAAQAAAAEAAAABAAAAAQAAAAEAAAABAAAAAQAAAAEAAAABAAAAAQAAAAEAAAABAAAAAQAAAAEAAAABAAAAAQAAAAEAAAABAAAAAQAAAAEAAAABAAAAAQAAAAEAAAABAAAAAQAAAAEAAAABAAAAAQAAAAEAAAABAAAAAQAAAAEAAAABAAAAAQAAAAEAAAABAAAAAQAAAAEAAAABAAAAAQAAAAEAAAABAAAAAQAAAAEAAAABAAAAAQAAAAEAAAABAAAAAQAAAAEAAAABAAAAAQAAAAEAAAABAAAAAQAAAAEAAAABAAAAAQAAAAEAAAABAAAAAQAAAAEAAAABAAAAAQAAAAEAAAABAAAAAQAAAAEAAAABAAAAAQAAAAEAAAABAAAAAQAAAAEAAAABAAAAAQAAAAEAAAABAAAAAQAAAAEAAAABAAAAAQAAAAEAAAABAAAAAQAAAAEAAAABAAAAAQAAAAEAAAABAAAAAQAAAAEAAAABAAAAAQAAAAEAAAABAAAAAQAAAAEAAAABAAAAAQAAAAEAAAABAAAAAQAAAAEAAAABAAAAAQAAAAEAAAABAAAAAQAAAAEAAAABAAAAAQAAAAEAAAABAAAAAQAAAAEAAAABAAAAAQAAAAEAAAABAAAAAQAAAAEAAAABAAAAAQAAAAEAAAABAAAAAQAAAAEAAAABAAAAAQAAAAEAAAABAAAAAQAAAAEAAAABAAAAAQAAAAEAAAABAAAAAQAAAAEAAAABAAAAAQAAAAEAAAABAAAAAQAAAAEAAAABAAAAAQAAAAEAAAABAAAAAQAAAAEAAAABAAAAAQAAAAEAAAABAAAAAQAAAAEAAAABAAAAAQAAAAEAAAABAAAAAQAAAAEAAAABAAAAAQAAAAEAAAABAAAAAQAAAAEAAAABAAAAAQAAAAEAAAABAAAAAQAAAAEAAAABAAAAAQAAAAEAAAABAAAAAQAAAAEAAAABAAAAAQAAAAEAAAABAAAAAQAAAAEAAAABAAAAAQAAAAEAAAABAAAAAQAAAAEAAAABAAAAAQAAAAEAAAABAAAAAQAAAAEAAAABAAAAAQAAAAEAAAABAAAAAQAAAAEAAAABAAAAAQAAAAEAAAABAAAAAQAAAAEAAAABAAAAAQAAAAEAAAABAAAAAQAAAAEAAAABAAAAAQAAAAEAAAABAAAAAQAAAAEAAAABAAAAAQAAAAEAAAABAAAAAQAAAAEAAAABAAAAAQAAAAEAAAABAAAAAQAAAAEAAAABAAAAAQAAAAEAAAABAAAAAQAAAAEAAAABAAAAAQAAAAEAAAABAAAAAQAAAAEAAAABAAAAAQAAAAEAAAABAAAAAQAAAAEAAAABAAAAAQAAAAEAAAABAAAAAQAAAAEAAAABAAAAAQAAAAEAAAABAAAAAQAAAAEAAAABAAAAAQAAAAEAAAABAAAAAQAAAAEAAAABAAAAAQAAAAEAAAABAAAAAQAAAAEAAAABAAAAAQAAAAEAAAABAAAAAQAAAAEAAAABAAAAAQAAAAEAAAABAAAAAQAAAAEAAAABAAAAAQAAAAEAAAABAAAAAQAAAAEAAAABAAAAAQAAAAEAAAABAAAAAQAAAAEAAAABAAAAAQAAAAEAAAABAAAAAQAAAAEAAAABAAAAAQAAAAEAAAABAAAAAQAAAAEAAAABAAAAAQAAAAEAAAABAAAAAQAAAAEAAAABAAAAAQAAAAEAAAABAAAAAQAAAAEAAAABAAAAAQAAAAEAAAABAAAAAQAAAAEAAAABAAAAAQAAAAEAAAABAAAAAQAAAAEAAAABAAAAAQAAAAEAAAABAAAAAQAAAAEAAAABAAAAAQAAAAEAAAABAAAAAQAAAAEAAAABAAAAAQAAAAEAAAABAAAAAQAAAAEAAAABAAAAAQAAAAEAAAABAAAAAQAAAAEAAAABAAAAAQAAAAEAAAABAAAAAQAAAAEAAAABAAAAAQAAAAEAAAABAAAAAQAAAAEAAAABAAAAAQAAAAEAAAABAAAAAQAAAAEAAAABAAAAAQAAAAEAAAABAAAAAQAAAAEAAAABAAAAAQAAAAEAAAABAAAAAQAAAAEAAAABAAAAAQAAAAEAAAABAAAAAQAAAAEAAAABAAAAAQAAAAEAAAABAAAAAQAAAAEAAAABAAAAAQAAAAEAAAABAAAAAQAAAAEAAAABAAAAAQAAAAEAAAABAAAAAQAAAAEAAAABAAAAAQAAAAEAAAABAAAAAQAAAAEAAAABAAAAAQAAAAEAAAABAAAAAQAAAAEAAAABAAAAAQAAAAEAAAABAAAAAQAAAAEAAAABAAAAAQAAAAEAAAABAAAAAQAAAAEAAAABAAAAAQAAAAEAAAABAAAAAQAAAAEAAAABAAAAAQAAAAEAAAABAAAAAQAAAAEAAAABAAAAAQAAAAEAAAABAAAAAQAAAAEAAAABAAAAAQAAAAEAAAABAAAAAQAAAAEAAAABAAAAAQAAAAEAAAABAAAAAQAAAAEAAAABAAAA\"},\"shape\":[1017],\"dtype\":\"int32\",\"order\":\"little\"}]]}}},\"view\":{\"type\":\"object\",\"name\":\"CDSView\",\"id\":\"p1140\",\"attributes\":{\"filter\":{\"type\":\"object\",\"name\":\"AllIndices\",\"id\":\"p1141\"}}},\"glyph\":{\"type\":\"object\",\"name\":\"Circle\",\"id\":\"p1136\",\"attributes\":{\"x\":{\"type\":\"field\",\"field\":\"x\"},\"y\":{\"type\":\"field\",\"field\":\"y\"},\"size\":{\"type\":\"value\",\"value\":2},\"line_color\":{\"type\":\"field\",\"field\":\"color\"},\"line_alpha\":{\"type\":\"field\",\"field\":\"alpha\"},\"fill_color\":{\"type\":\"field\",\"field\":\"color\"},\"fill_alpha\":{\"type\":\"field\",\"field\":\"alpha\"},\"hatch_color\":{\"type\":\"field\",\"field\":\"color\"},\"hatch_alpha\":{\"type\":\"field\",\"field\":\"alpha\"}}},\"nonselection_glyph\":{\"type\":\"object\",\"name\":\"Circle\",\"id\":\"p1137\",\"attributes\":{\"x\":{\"type\":\"field\",\"field\":\"x\"},\"y\":{\"type\":\"field\",\"field\":\"y\"},\"size\":{\"type\":\"value\",\"value\":2},\"line_color\":{\"type\":\"field\",\"field\":\"color\"},\"line_alpha\":{\"type\":\"value\",\"value\":0.1},\"fill_color\":{\"type\":\"field\",\"field\":\"color\"},\"fill_alpha\":{\"type\":\"value\",\"value\":0.1},\"hatch_color\":{\"type\":\"field\",\"field\":\"color\"},\"hatch_alpha\":{\"type\":\"value\",\"value\":0.1}}},\"muted_glyph\":{\"type\":\"object\",\"name\":\"Circle\",\"id\":\"p1138\",\"attributes\":{\"x\":{\"type\":\"field\",\"field\":\"x\"},\"y\":{\"type\":\"field\",\"field\":\"y\"},\"size\":{\"type\":\"value\",\"value\":2},\"line_color\":{\"type\":\"field\",\"field\":\"color\"},\"line_alpha\":{\"type\":\"value\",\"value\":0.2},\"fill_color\":{\"type\":\"field\",\"field\":\"color\"},\"fill_alpha\":{\"type\":\"value\",\"value\":0.2},\"hatch_color\":{\"type\":\"field\",\"field\":\"color\"},\"hatch_alpha\":{\"type\":\"value\",\"value\":0.2}}}}}],\"toolbar\":{\"type\":\"object\",\"name\":\"Toolbar\",\"id\":\"p1109\",\"attributes\":{\"tools\":[{\"type\":\"object\",\"name\":\"PanTool\",\"id\":\"p1122\"},{\"type\":\"object\",\"name\":\"WheelZoomTool\",\"id\":\"p1123\",\"attributes\":{\"renderers\":\"auto\"}},{\"type\":\"object\",\"name\":\"BoxZoomTool\",\"id\":\"p1124\",\"attributes\":{\"overlay\":{\"type\":\"object\",\"name\":\"BoxAnnotation\",\"id\":\"p1125\",\"attributes\":{\"syncable\":false,\"level\":\"overlay\",\"visible\":false,\"left\":{\"type\":\"number\",\"value\":\"nan\"},\"right\":{\"type\":\"number\",\"value\":\"nan\"},\"top\":{\"type\":\"number\",\"value\":\"nan\"},\"bottom\":{\"type\":\"number\",\"value\":\"nan\"},\"left_units\":\"canvas\",\"right_units\":\"canvas\",\"top_units\":\"canvas\",\"bottom_units\":\"canvas\",\"line_color\":\"black\",\"line_alpha\":1.0,\"line_width\":2,\"line_dash\":[4,4],\"fill_color\":\"lightgrey\",\"fill_alpha\":0.5}}}},{\"type\":\"object\",\"name\":\"SaveTool\",\"id\":\"p1130\"},{\"type\":\"object\",\"name\":\"ResetTool\",\"id\":\"p1131\"},{\"type\":\"object\",\"name\":\"HelpTool\",\"id\":\"p1132\"}]}},\"left\":[{\"type\":\"object\",\"name\":\"LinearAxis\",\"id\":\"p1117\",\"attributes\":{\"visible\":false,\"ticker\":{\"type\":\"object\",\"name\":\"BasicTicker\",\"id\":\"p1118\",\"attributes\":{\"mantissas\":[1,2,5]}},\"formatter\":{\"type\":\"object\",\"name\":\"BasicTickFormatter\",\"id\":\"p1119\"},\"major_label_policy\":{\"type\":\"object\",\"name\":\"AllLabels\",\"id\":\"p1120\"}}}],\"below\":[{\"type\":\"object\",\"name\":\"LinearAxis\",\"id\":\"p1112\",\"attributes\":{\"visible\":false,\"ticker\":{\"type\":\"object\",\"name\":\"BasicTicker\",\"id\":\"p1113\",\"attributes\":{\"mantissas\":[1,2,5]}},\"formatter\":{\"type\":\"object\",\"name\":\"BasicTickFormatter\",\"id\":\"p1114\"},\"major_label_policy\":{\"type\":\"object\",\"name\":\"AllLabels\",\"id\":\"p1115\"}}}],\"center\":[{\"type\":\"object\",\"name\":\"Grid\",\"id\":\"p1116\",\"attributes\":{\"visible\":false,\"axis\":{\"id\":\"p1112\"}}},{\"type\":\"object\",\"name\":\"Grid\",\"id\":\"p1121\",\"attributes\":{\"visible\":false,\"dimension\":1,\"axis\":{\"id\":\"p1117\"}}}],\"background_fill_color\":\"black\"}}],\"defs\":[{\"type\":\"model\",\"name\":\"ReactiveHTML1\"},{\"type\":\"model\",\"name\":\"FlexBox1\",\"properties\":[{\"name\":\"align_content\",\"kind\":\"Any\",\"default\":\"flex-start\"},{\"name\":\"align_items\",\"kind\":\"Any\",\"default\":\"flex-start\"},{\"name\":\"flex_direction\",\"kind\":\"Any\",\"default\":\"row\"},{\"name\":\"flex_wrap\",\"kind\":\"Any\",\"default\":\"wrap\"},{\"name\":\"justify_content\",\"kind\":\"Any\",\"default\":\"flex-start\"}]},{\"type\":\"model\",\"name\":\"FloatPanel1\",\"properties\":[{\"name\":\"config\",\"kind\":\"Any\",\"default\":{\"type\":\"map\"}},{\"name\":\"contained\",\"kind\":\"Any\",\"default\":true},{\"name\":\"position\",\"kind\":\"Any\",\"default\":\"right-top\"},{\"name\":\"offsetx\",\"kind\":\"Any\",\"default\":null},{\"name\":\"offsety\",\"kind\":\"Any\",\"default\":null},{\"name\":\"theme\",\"kind\":\"Any\",\"default\":\"primary\"},{\"name\":\"status\",\"kind\":\"Any\",\"default\":\"normalized\"}]},{\"type\":\"model\",\"name\":\"GridStack1\",\"properties\":[{\"name\":\"mode\",\"kind\":\"Any\",\"default\":\"warn\"},{\"name\":\"ncols\",\"kind\":\"Any\",\"default\":null},{\"name\":\"nrows\",\"kind\":\"Any\",\"default\":null},{\"name\":\"allow_resize\",\"kind\":\"Any\",\"default\":true},{\"name\":\"allow_drag\",\"kind\":\"Any\",\"default\":true},{\"name\":\"state\",\"kind\":\"Any\",\"default\":[]}]},{\"type\":\"model\",\"name\":\"drag1\",\"properties\":[{\"name\":\"slider_width\",\"kind\":\"Any\",\"default\":5},{\"name\":\"slider_color\",\"kind\":\"Any\",\"default\":\"black\"},{\"name\":\"value\",\"kind\":\"Any\",\"default\":50}]},{\"type\":\"model\",\"name\":\"click1\",\"properties\":[{\"name\":\"terminal_output\",\"kind\":\"Any\",\"default\":\"\"},{\"name\":\"debug_name\",\"kind\":\"Any\",\"default\":\"\"},{\"name\":\"clears\",\"kind\":\"Any\",\"default\":0}]},{\"type\":\"model\",\"name\":\"copy_to_clipboard1\",\"properties\":[{\"name\":\"fill\",\"kind\":\"Any\",\"default\":\"none\"},{\"name\":\"value\",\"kind\":\"Any\",\"default\":null}]},{\"type\":\"model\",\"name\":\"FastWrapper1\",\"properties\":[{\"name\":\"object\",\"kind\":\"Any\",\"default\":null},{\"name\":\"style\",\"kind\":\"Any\",\"default\":null}]},{\"type\":\"model\",\"name\":\"NotificationAreaBase1\",\"properties\":[{\"name\":\"js_events\",\"kind\":\"Any\",\"default\":{\"type\":\"map\"}},{\"name\":\"position\",\"kind\":\"Any\",\"default\":\"bottom-right\"},{\"name\":\"_clear\",\"kind\":\"Any\",\"default\":0}]},{\"type\":\"model\",\"name\":\"NotificationArea1\",\"properties\":[{\"name\":\"js_events\",\"kind\":\"Any\",\"default\":{\"type\":\"map\"}},{\"name\":\"notifications\",\"kind\":\"Any\",\"default\":[]},{\"name\":\"position\",\"kind\":\"Any\",\"default\":\"bottom-right\"},{\"name\":\"_clear\",\"kind\":\"Any\",\"default\":0},{\"name\":\"types\",\"kind\":\"Any\",\"default\":[{\"type\":\"map\",\"entries\":[[\"type\",\"warning\"],[\"background\",\"#ffc107\"],[\"icon\",{\"type\":\"map\",\"entries\":[[\"className\",\"fas fa-exclamation-triangle\"],[\"tagName\",\"i\"],[\"color\",\"white\"]]}]]},{\"type\":\"map\",\"entries\":[[\"type\",\"info\"],[\"background\",\"#007bff\"],[\"icon\",{\"type\":\"map\",\"entries\":[[\"className\",\"fas fa-info-circle\"],[\"tagName\",\"i\"],[\"color\",\"white\"]]}]]}]}]},{\"type\":\"model\",\"name\":\"Notification\",\"properties\":[{\"name\":\"background\",\"kind\":\"Any\",\"default\":null},{\"name\":\"duration\",\"kind\":\"Any\",\"default\":3000},{\"name\":\"icon\",\"kind\":\"Any\",\"default\":null},{\"name\":\"message\",\"kind\":\"Any\",\"default\":\"\"},{\"name\":\"notification_type\",\"kind\":\"Any\",\"default\":null},{\"name\":\"_destroyed\",\"kind\":\"Any\",\"default\":false}]},{\"type\":\"model\",\"name\":\"TemplateActions1\",\"properties\":[{\"name\":\"open_modal\",\"kind\":\"Any\",\"default\":0},{\"name\":\"close_modal\",\"kind\":\"Any\",\"default\":0}]},{\"type\":\"model\",\"name\":\"BootstrapTemplateActions1\",\"properties\":[{\"name\":\"open_modal\",\"kind\":\"Any\",\"default\":0},{\"name\":\"close_modal\",\"kind\":\"Any\",\"default\":0}]},{\"type\":\"model\",\"name\":\"MaterialTemplateActions1\",\"properties\":[{\"name\":\"open_modal\",\"kind\":\"Any\",\"default\":0},{\"name\":\"close_modal\",\"kind\":\"Any\",\"default\":0}]}]}};\n",
       "  const render_items = [{\"docid\":\"eb7be4c0-5704-47a5-b38b-0613ee2ab9a5\",\"roots\":{\"p1101\":\"e1c978e3-808a-45e8-806a-cc490c09a21d\"},\"root_ids\":[\"p1101\"]}];\n",
       "  root.Bokeh.embed.embed_items_notebook(docs_json, render_items);\n",
       "  }\n",
       "  if (root.Bokeh !== undefined) {\n",
       "    embed_document(root);\n",
       "  } else {\n",
       "    let attempts = 0;\n",
       "    const timer = setInterval(function(root) {\n",
       "      if (root.Bokeh !== undefined) {\n",
       "        clearInterval(timer);\n",
       "        embed_document(root);\n",
       "      } else {\n",
       "        attempts++;\n",
       "        if (attempts > 100) {\n",
       "          clearInterval(timer);\n",
       "          console.log(\"Bokeh: ERROR: Unable to run BokehJS code because BokehJS library is missing\");\n",
       "        }\n",
       "      }\n",
       "    }, 10, root)\n",
       "  }\n",
       "})(window);"
      ],
      "application/vnd.bokehjs_exec.v0+json": ""
     },
     "metadata": {
      "application/vnd.bokehjs_exec.v0+json": {
       "id": "p1101"
      }
     },
     "output_type": "display_data"
    }
   ],
   "source": [
    "p = umap.plot.interactive(mapper2, labels=labels, point_size=2, theme='fire') \n",
    "umap.plot.show(p)"
   ]
  },
  {
   "cell_type": "code",
   "execution_count": null,
   "id": "881b2f03-ddb3-4f3d-b00f-f261fc0735f0",
   "metadata": {},
   "outputs": [],
   "source": []
  }
 ],
 "metadata": {
  "kernelspec": {
   "display_name": "Python 3 (ipykernel)",
   "language": "python",
   "name": "python3"
  },
  "language_info": {
   "codemirror_mode": {
    "name": "ipython",
    "version": 3
   },
   "file_extension": ".py",
   "mimetype": "text/x-python",
   "name": "python",
   "nbconvert_exporter": "python",
   "pygments_lexer": "ipython3",
   "version": "3.11.7"
  }
 },
 "nbformat": 4,
 "nbformat_minor": 5
}
