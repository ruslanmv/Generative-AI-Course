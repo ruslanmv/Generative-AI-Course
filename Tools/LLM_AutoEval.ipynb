{
  "cells": [
    {
      "cell_type": "code",
      "execution_count": null,
      "metadata": {
        "colab": {
          "base_uri": "https://localhost:8080/"
        },
        "id": "elyxjYI_rY5W",
        "outputId": "9d80047d-2ef1-4e8f-b46a-3f8dc63db31c"
      },
      "outputs": [
        {
          "name": "stdout",
          "output_type": "stream",
          "text": [
            "Pod started: https://www.runpod.io/console/pods\n"
          ]
        }
      ],
      "source": [
        "# @title # 🧐 LLM AutoEval\n",
        "\n",
        "\n",
        "!pip install -qqq runpod --progress-bar off\n",
        "\n",
        "import runpod\n",
        "from google.colab import userdata\n",
        "\n",
        "# @markdown ---\n",
        "\n",
        "# @markdown ## 🔍 Evaluation\n",
        "MODEL_ID = \"mlabonne/AlphaMonarch-7B\" # @param {type:\"string\"}\n",
        "BENCHMARK = \"eq-bench\" # @param [\"nous\", \"eq-bench\", \"openllm\", \"lighteval\"]\n",
        "\n",
        "# @markdown For lighteval, select tasks as specified in the [readme](https://github.com/huggingface/lighteval?tab=readme-ov-file#usage) or in the list of [recommended tasks](https://github.com/huggingface/lighteval/blob/main/tasks_examples/recommended_set.txt).\n",
        "\n",
        "LIGHTEVAL_TASK = \"leaderboard|truthfulqa:mc|0|0,leaderboard|gsm8k|0|0\" # @param {type:\"string\"}\n",
        "\n",
        "# @markdown ---\n",
        "\n",
        "# @markdown ## ☁️ Cloud GPU\n",
        "\n",
        "GPU = \"NVIDIA GeForce RTX 3090\" # @param [\"NVIDIA A100 80GB PCIe\", \"NVIDIA A100-SXM4-80GB\", \"NVIDIA A30\", \"NVIDIA A40\", \"NVIDIA GeForce RTX 3070\", \"NVIDIA GeForce RTX 3080\", \"NVIDIA GeForce RTX 3080 Ti\", \"NVIDIA GeForce RTX 3090\", \"NVIDIA GeForce RTX 3090 Ti\", \"NVIDIA GeForce RTX 4070 Ti\", \"NVIDIA GeForce RTX 4080\", \"NVIDIA GeForce RTX 4090\", \"NVIDIA H100 80GB HBM3\", \"NVIDIA H100 PCIe\", \"NVIDIA L4\", \"NVIDIA L40\", \"NVIDIA RTX 4000 Ada Generation\", \"NVIDIA RTX 4000 SFF Ada Generation\", \"NVIDIA RTX 5000 Ada Generation\", \"NVIDIA RTX 6000 Ada Generation\", \"NVIDIA RTX A2000\", \"NVIDIA RTX A4000\", \"NVIDIA RTX A4500\", \"NVIDIA RTX A5000\", \"NVIDIA RTX A6000\", \"Tesla V100-FHHL-16GB\", \"Tesla V100-PCIE-16GB\", \"Tesla V100-SXM2-16GB\", \"Tesla V100-SXM2-32GB\"]\n",
        "NUMBER_OF_GPUS = 1 # @param {type:\"slider\", min:1, max:8, step:1}\n",
        "CONTAINER_DISK = 75 # @param {type:\"slider\", min:50, max:500, step:25}\n",
        "CLOUD_TYPE = \"COMMUNITY\" # @param [\"COMMUNITY\", \"SECURE\"]\n",
        "REPO = \"https://github.com/mlabonne/llm-autoeval.git\" # @param {type:\"string\"}\n",
        "TRUST_REMOTE_CODE = False # @param {type:\"boolean\"}\n",
        "PRIVATE_GIST = True # @param {type:\"boolean\"}\n",
        "DEBUG = False # @param {type:\"boolean\"}\n",
        "\n",
        "# @markdown ---\n",
        "\n",
        "# @markdown ## 🔑 Tokens\n",
        "# @markdown Enter the name of your tokens in the Secrets tab.\n",
        "RUNPOD_TOKEN = \"runpod\" # @param {type:\"string\"}\n",
        "GITHUB_TOKEN = \"github\" # @param {type:\"string\"}\n",
        "HF_TOKEN = \"HF_TOKEN\" # @param {type:\"string\"}\n",
        "\n",
        "# Environment variables\n",
        "runpod.api_key = userdata.get(RUNPOD_TOKEN)\n",
        "GITHUB_API_TOKEN = userdata.get(GITHUB_TOKEN)\n",
        "HUGGINGFACE_TOKEN = userdata.get(HF_TOKEN)\n",
        "\n",
        "# Create a pod\n",
        "pod = runpod.create_pod(\n",
        "    name=f\"Eval {MODEL_ID.split('/')[-1]} on {BENCHMARK.capitalize()}\",\n",
        "    image_name=\"runpod/pytorch:2.0.1-py3.10-cuda11.8.0-devel-ubuntu22.04\",\n",
        "    gpu_type_id=GPU,\n",
        "    cloud_type=CLOUD_TYPE,\n",
        "    gpu_count=NUMBER_OF_GPUS,\n",
        "    volume_in_gb=0,\n",
        "    container_disk_in_gb=CONTAINER_DISK,\n",
        "    template_id=\"au6nz6emhk\",\n",
        "    env={\n",
        "        \"BENCHMARK\": BENCHMARK,\n",
        "        \"MODEL_ID\": MODEL_ID,\n",
        "        \"REPO\": REPO,\n",
        "        \"TRUST_REMOTE_CODE\": TRUST_REMOTE_CODE,\n",
        "        \"PRIVATE_GIST\": PRIVATE_GIST,\n",
        "        \"DEBUG\": DEBUG,\n",
        "        \"GITHUB_API_TOKEN\": GITHUB_API_TOKEN,\n",
        "        \"HUGGINGFACE_TOKEN\": HUGGINGFACE_TOKEN,\n",
        "        \"LIGHT_EVAL_TASK\": LIGHTEVAL_TASK,\n",
        "        \"NUMBER_OF_GPUS\": NUMBER_OF_GPUS\n",
        "    }\n",
        ")\n",
        "\n",
        "print(\"Pod started: https://www.runpod.io/console/pods\")"
      ]
    }
  ],
  "metadata": {
    "colab": {
      "provenance": []
    },
    "kernelspec": {
      "display_name": "Python 3",
      "name": "python3"
    },
    "language_info": {
      "name": "python"
    }
  },
  "nbformat": 4,
  "nbformat_minor": 0
}
